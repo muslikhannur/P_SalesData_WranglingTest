{
  "nbformat": 4,
  "nbformat_minor": 0,
  "metadata": {
    "colab": {
      "name": "WranglingTest_SalesData",
      "provenance": [],
      "collapsed_sections": [],
      "toc_visible": true,
      "authorship_tag": "ABX9TyMGLzA4scQpzJLoWziXmPiv",
      "include_colab_link": true
    },
    "kernelspec": {
      "name": "python3",
      "display_name": "Python 3"
    }
  },
  "cells": [
    {
      "cell_type": "markdown",
      "metadata": {
        "id": "view-in-github",
        "colab_type": "text"
      },
      "source": [
        "<a href=\"https://colab.research.google.com/github/muslikhannur/P_SalesData_WranglingTest/blob/master/WranglingTest_SalesData.ipynb\" target=\"_parent\"><img src=\"https://colab.research.google.com/assets/colab-badge.svg\" alt=\"Open In Colab\"/></a>"
      ]
    },
    {
      "cell_type": "markdown",
      "metadata": {
        "id": "LzyyfzUGRF00",
        "colab_type": "text"
      },
      "source": [
        "# ***Mount Drive***"
      ]
    },
    {
      "cell_type": "code",
      "metadata": {
        "id": "HMQ4IjO2RDCE",
        "colab_type": "code",
        "colab": {
          "base_uri": "https://localhost:8080/",
          "height": 54
        },
        "outputId": "0432b226-41e2-4e03-96d2-171c1f4c2bec"
      },
      "source": [
        "# Mount!\n",
        "from google.colab import drive\n",
        "drive.mount('/content/drive')"
      ],
      "execution_count": 1,
      "outputs": [
        {
          "output_type": "stream",
          "text": [
            "Drive already mounted at /content/drive; to attempt to forcibly remount, call drive.mount(\"/content/drive\", force_remount=True).\n"
          ],
          "name": "stdout"
        }
      ]
    },
    {
      "cell_type": "markdown",
      "metadata": {
        "id": "yPXr-5RiRaVs",
        "colab_type": "text"
      },
      "source": [
        "# ***Load Libraries***"
      ]
    },
    {
      "cell_type": "code",
      "metadata": {
        "id": "5NqyR9k2RK8i",
        "colab_type": "code",
        "colab": {
          "base_uri": "https://localhost:8080/",
          "height": 71
        },
        "outputId": "b626efd3-92a1-486f-9726-9e5e83549c2a"
      },
      "source": [
        "# Import some mainstream Library \n",
        "import pandas as pd\n",
        "import numpy as np\n",
        "import matplotlib.pyplot as plt\n",
        "import seaborn as sns\n",
        "import time \n",
        "\n",
        "from numpy import hstack \n",
        "from functools import reduce\n",
        "from sklearn.model_selection import train_test_split\n",
        "from sklearn.preprocessing import MinMaxScaler"
      ],
      "execution_count": 2,
      "outputs": [
        {
          "output_type": "stream",
          "text": [
            "/usr/local/lib/python3.6/dist-packages/statsmodels/tools/_testing.py:19: FutureWarning: pandas.util.testing is deprecated. Use the functions in the public API at pandas.testing instead.\n",
            "  import pandas.util.testing as tm\n"
          ],
          "name": "stderr"
        }
      ]
    },
    {
      "cell_type": "markdown",
      "metadata": {
        "id": "mdLT6SJXU__r",
        "colab_type": "text"
      },
      "source": [
        "# ***Determine Open/Save Directory***"
      ]
    },
    {
      "cell_type": "code",
      "metadata": {
        "id": "KS8lDpKjVU9H",
        "colab_type": "code",
        "colab": {
          "base_uri": "https://localhost:8080/",
          "height": 309
        },
        "outputId": "f0737a86-c360-418a-8cb2-c888e8fe4563"
      },
      "source": [
        "# Determine the Path and Retrieve the Data\n",
        "pathDatasets = '/content/drive/My Drive/Colab/Projects - Niagahoster/Datasets/' #Getting Datasets\n",
        "pathResults = '/content/drive/My Drive/Colab/Projects - Niagahoster/Results/' #Saving Excel, Image, etc\n",
        "\n",
        "SalesData = pd.read_csv(pathDatasets + 'NH_Technical_Test.csv')\n",
        "SalesData.tail()"
      ],
      "execution_count": 3,
      "outputs": [
        {
          "output_type": "execute_result",
          "data": {
            "text/html": [
              "<div>\n",
              "<style scoped>\n",
              "    .dataframe tbody tr th:only-of-type {\n",
              "        vertical-align: middle;\n",
              "    }\n",
              "\n",
              "    .dataframe tbody tr th {\n",
              "        vertical-align: top;\n",
              "    }\n",
              "\n",
              "    .dataframe thead th {\n",
              "        text-align: right;\n",
              "    }\n",
              "</style>\n",
              "<table border=\"1\" class=\"dataframe\">\n",
              "  <thead>\n",
              "    <tr style=\"text-align: right;\">\n",
              "      <th></th>\n",
              "      <th>client_id</th>\n",
              "      <th>invoice_id</th>\n",
              "      <th>invoice_item_id</th>\n",
              "      <th>invoice_status</th>\n",
              "      <th>service_status</th>\n",
              "      <th>product_id</th>\n",
              "      <th>monthly_price_usd</th>\n",
              "      <th>discount</th>\n",
              "      <th>service_period</th>\n",
              "      <th>client_task</th>\n",
              "      <th>invoice_created_at</th>\n",
              "      <th>invoice_paid_at</th>\n",
              "      <th>service_cancelled_at</th>\n",
              "      <th>monthly_period</th>\n",
              "      <th>total_price</th>\n",
              "      <th>discounted_price</th>\n",
              "    </tr>\n",
              "  </thead>\n",
              "  <tbody>\n",
              "    <tr>\n",
              "      <th>89540</th>\n",
              "      <td>259942</td>\n",
              "      <td>881975.0</td>\n",
              "      <td>884574</td>\n",
              "      <td>Paid</td>\n",
              "      <td>Active</td>\n",
              "      <td>3</td>\n",
              "      <td>13</td>\n",
              "      <td>0.50</td>\n",
              "      <td>1Y</td>\n",
              "      <td>Activate</td>\n",
              "      <td>2019-12-16T06:14:36Z</td>\n",
              "      <td>2019-12-18T06:21:09Z</td>\n",
              "      <td>NaN</td>\n",
              "      <td>12</td>\n",
              "      <td>156</td>\n",
              "      <td>78.00</td>\n",
              "    </tr>\n",
              "    <tr>\n",
              "      <th>89541</th>\n",
              "      <td>84615</td>\n",
              "      <td>882013.0</td>\n",
              "      <td>1070069</td>\n",
              "      <td>Paid</td>\n",
              "      <td>Active</td>\n",
              "      <td>3</td>\n",
              "      <td>13</td>\n",
              "      <td>0.50</td>\n",
              "      <td>1Y</td>\n",
              "      <td>Renew</td>\n",
              "      <td>2019-12-16T07:00:45Z</td>\n",
              "      <td>2019-12-20T03:20:26Z</td>\n",
              "      <td>NaN</td>\n",
              "      <td>12</td>\n",
              "      <td>156</td>\n",
              "      <td>78.00</td>\n",
              "    </tr>\n",
              "    <tr>\n",
              "      <th>89542</th>\n",
              "      <td>129895</td>\n",
              "      <td>882042.0</td>\n",
              "      <td>1155193</td>\n",
              "      <td>Paid</td>\n",
              "      <td>Active</td>\n",
              "      <td>4</td>\n",
              "      <td>18</td>\n",
              "      <td>0.37</td>\n",
              "      <td>1Y</td>\n",
              "      <td>Renew</td>\n",
              "      <td>2019-12-16T07:24:39Z</td>\n",
              "      <td>2019-12-16T10:04:59Z</td>\n",
              "      <td>NaN</td>\n",
              "      <td>12</td>\n",
              "      <td>216</td>\n",
              "      <td>136.08</td>\n",
              "    </tr>\n",
              "    <tr>\n",
              "      <th>89543</th>\n",
              "      <td>259997</td>\n",
              "      <td>882147.0</td>\n",
              "      <td>952162</td>\n",
              "      <td>Paid</td>\n",
              "      <td>Active</td>\n",
              "      <td>3</td>\n",
              "      <td>13</td>\n",
              "      <td>0.75</td>\n",
              "      <td>3Y</td>\n",
              "      <td>Activate</td>\n",
              "      <td>2019-12-16T09:17:21Z</td>\n",
              "      <td>2019-12-16T09:20:06Z</td>\n",
              "      <td>NaN</td>\n",
              "      <td>36</td>\n",
              "      <td>468</td>\n",
              "      <td>117.00</td>\n",
              "    </tr>\n",
              "    <tr>\n",
              "      <th>89544</th>\n",
              "      <td>251782</td>\n",
              "      <td>882187.0</td>\n",
              "      <td>920682</td>\n",
              "      <td>Paid</td>\n",
              "      <td>Active</td>\n",
              "      <td>3</td>\n",
              "      <td>13</td>\n",
              "      <td>0.78</td>\n",
              "      <td>3Y</td>\n",
              "      <td>Activate</td>\n",
              "      <td>2019-12-16T10:23:09Z</td>\n",
              "      <td>2019-12-16T10:26:42Z</td>\n",
              "      <td>NaN</td>\n",
              "      <td>36</td>\n",
              "      <td>468</td>\n",
              "      <td>102.96</td>\n",
              "    </tr>\n",
              "  </tbody>\n",
              "</table>\n",
              "</div>"
            ],
            "text/plain": [
              "       client_id  invoice_id  ...  total_price discounted_price\n",
              "89540     259942    881975.0  ...          156            78.00\n",
              "89541      84615    882013.0  ...          156            78.00\n",
              "89542     129895    882042.0  ...          216           136.08\n",
              "89543     259997    882147.0  ...          468           117.00\n",
              "89544     251782    882187.0  ...          468           102.96\n",
              "\n",
              "[5 rows x 16 columns]"
            ]
          },
          "metadata": {
            "tags": []
          },
          "execution_count": 3
        }
      ]
    },
    {
      "cell_type": "markdown",
      "metadata": {
        "id": "JrWJW8TqkY-j",
        "colab_type": "text"
      },
      "source": [
        "# ***Count Distint/Count Value per Column***"
      ]
    },
    {
      "cell_type": "code",
      "metadata": {
        "id": "LzxO9O8PbK16",
        "colab_type": "code",
        "colab": {
          "base_uri": "https://localhost:8080/",
          "height": 545
        },
        "outputId": "3890357d-160f-4fde-e0d6-e09a04d214e2"
      },
      "source": [
        "# Count Distinct\n",
        "cntDistinct = SalesData.nunique() #Count distict values\n",
        "cntCount = SalesData.count() #Count only non-null values\n",
        "cntDistinct = pd.DataFrame(data=cntDistinct)\n",
        "cntCount = pd.DataFrame(data=cntCount)\n",
        "cntDistinct['col'], cntCount['col']= cntDistinct.index, cntCount.index\n",
        "\n",
        "cntMerge = [cntDistinct, cntCount]\n",
        "cntMerge = reduce(lambda left,right: pd.merge(left,right,on='col',how='left'), cntMerge)\n",
        "cntMerge = cntMerge[['col', '0_x', '0_y']]\n",
        "cntMerge.columns = ['col', 'distinct', 'count']\n",
        "cntMerge"
      ],
      "execution_count": 4,
      "outputs": [
        {
          "output_type": "execute_result",
          "data": {
            "text/html": [
              "<div>\n",
              "<style scoped>\n",
              "    .dataframe tbody tr th:only-of-type {\n",
              "        vertical-align: middle;\n",
              "    }\n",
              "\n",
              "    .dataframe tbody tr th {\n",
              "        vertical-align: top;\n",
              "    }\n",
              "\n",
              "    .dataframe thead th {\n",
              "        text-align: right;\n",
              "    }\n",
              "</style>\n",
              "<table border=\"1\" class=\"dataframe\">\n",
              "  <thead>\n",
              "    <tr style=\"text-align: right;\">\n",
              "      <th></th>\n",
              "      <th>col</th>\n",
              "      <th>distinct</th>\n",
              "      <th>count</th>\n",
              "    </tr>\n",
              "  </thead>\n",
              "  <tbody>\n",
              "    <tr>\n",
              "      <th>0</th>\n",
              "      <td>client_id</td>\n",
              "      <td>56211</td>\n",
              "      <td>89545</td>\n",
              "    </tr>\n",
              "    <tr>\n",
              "      <th>1</th>\n",
              "      <td>invoice_id</td>\n",
              "      <td>85681</td>\n",
              "      <td>89545</td>\n",
              "    </tr>\n",
              "    <tr>\n",
              "      <th>2</th>\n",
              "      <td>invoice_item_id</td>\n",
              "      <td>88890</td>\n",
              "      <td>89545</td>\n",
              "    </tr>\n",
              "    <tr>\n",
              "      <th>3</th>\n",
              "      <td>invoice_status</td>\n",
              "      <td>4</td>\n",
              "      <td>89545</td>\n",
              "    </tr>\n",
              "    <tr>\n",
              "      <th>4</th>\n",
              "      <td>service_status</td>\n",
              "      <td>5</td>\n",
              "      <td>89545</td>\n",
              "    </tr>\n",
              "    <tr>\n",
              "      <th>5</th>\n",
              "      <td>product_id</td>\n",
              "      <td>14</td>\n",
              "      <td>89545</td>\n",
              "    </tr>\n",
              "    <tr>\n",
              "      <th>6</th>\n",
              "      <td>monthly_price_usd</td>\n",
              "      <td>14</td>\n",
              "      <td>89545</td>\n",
              "    </tr>\n",
              "    <tr>\n",
              "      <th>7</th>\n",
              "      <td>discount</td>\n",
              "      <td>224</td>\n",
              "      <td>89545</td>\n",
              "    </tr>\n",
              "    <tr>\n",
              "      <th>8</th>\n",
              "      <td>service_period</td>\n",
              "      <td>6</td>\n",
              "      <td>89545</td>\n",
              "    </tr>\n",
              "    <tr>\n",
              "      <th>9</th>\n",
              "      <td>client_task</td>\n",
              "      <td>2</td>\n",
              "      <td>89545</td>\n",
              "    </tr>\n",
              "    <tr>\n",
              "      <th>10</th>\n",
              "      <td>invoice_created_at</td>\n",
              "      <td>85060</td>\n",
              "      <td>89545</td>\n",
              "    </tr>\n",
              "    <tr>\n",
              "      <th>11</th>\n",
              "      <td>invoice_paid_at</td>\n",
              "      <td>50163</td>\n",
              "      <td>53755</td>\n",
              "    </tr>\n",
              "    <tr>\n",
              "      <th>12</th>\n",
              "      <td>service_cancelled_at</td>\n",
              "      <td>18759</td>\n",
              "      <td>21756</td>\n",
              "    </tr>\n",
              "    <tr>\n",
              "      <th>13</th>\n",
              "      <td>monthly_period</td>\n",
              "      <td>6</td>\n",
              "      <td>89545</td>\n",
              "    </tr>\n",
              "    <tr>\n",
              "      <th>14</th>\n",
              "      <td>total_price</td>\n",
              "      <td>66</td>\n",
              "      <td>89545</td>\n",
              "    </tr>\n",
              "    <tr>\n",
              "      <th>15</th>\n",
              "      <td>discounted_price</td>\n",
              "      <td>828</td>\n",
              "      <td>89545</td>\n",
              "    </tr>\n",
              "  </tbody>\n",
              "</table>\n",
              "</div>"
            ],
            "text/plain": [
              "                     col  distinct  count\n",
              "0              client_id     56211  89545\n",
              "1             invoice_id     85681  89545\n",
              "2        invoice_item_id     88890  89545\n",
              "3         invoice_status         4  89545\n",
              "4         service_status         5  89545\n",
              "5             product_id        14  89545\n",
              "6      monthly_price_usd        14  89545\n",
              "7               discount       224  89545\n",
              "8         service_period         6  89545\n",
              "9            client_task         2  89545\n",
              "10    invoice_created_at     85060  89545\n",
              "11       invoice_paid_at     50163  53755\n",
              "12  service_cancelled_at     18759  21756\n",
              "13        monthly_period         6  89545\n",
              "14           total_price        66  89545\n",
              "15      discounted_price       828  89545"
            ]
          },
          "metadata": {
            "tags": []
          },
          "execution_count": 4
        }
      ]
    },
    {
      "cell_type": "markdown",
      "metadata": {
        "id": "KnVIniClWAyG",
        "colab_type": "text"
      },
      "source": [
        "# ***Question A***\n",
        "Imagine you are working as a data analyst working at company \"X\". You were asked to make an annual report by the product manager. In order to do that, you need data which you might already have right now. However, you were informed by the data engineer that there was a problem recently in the company's database. As a result, some records are believed to be duplicated and this would create a huge amount of error in your report.  As a data analyst, it is also part of your job to do some data cleaning. Therefore, separate all the duplicated records, count how many of them, and remove them completely from your data so that you can feel confident about the validity of your analysis."
      ]
    },
    {
      "cell_type": "code",
      "metadata": {
        "id": "gE0WjngGA8Mi",
        "colab_type": "code",
        "colab": {
          "base_uri": "https://localhost:8080/",
          "height": 309
        },
        "outputId": "e77a6f5d-0e5e-4ae8-b50a-5e19fc525743"
      },
      "source": [
        "# Get to know the Duplicate: Based on invoice_id & product_id that have same value\n",
        "SalesDataDuplicate = SalesData[SalesData.duplicated(['invoice_id', 'product_id'])]\n",
        "SalesDataDuplicate.tail()"
      ],
      "execution_count": 5,
      "outputs": [
        {
          "output_type": "execute_result",
          "data": {
            "text/html": [
              "<div>\n",
              "<style scoped>\n",
              "    .dataframe tbody tr th:only-of-type {\n",
              "        vertical-align: middle;\n",
              "    }\n",
              "\n",
              "    .dataframe tbody tr th {\n",
              "        vertical-align: top;\n",
              "    }\n",
              "\n",
              "    .dataframe thead th {\n",
              "        text-align: right;\n",
              "    }\n",
              "</style>\n",
              "<table border=\"1\" class=\"dataframe\">\n",
              "  <thead>\n",
              "    <tr style=\"text-align: right;\">\n",
              "      <th></th>\n",
              "      <th>client_id</th>\n",
              "      <th>invoice_id</th>\n",
              "      <th>invoice_item_id</th>\n",
              "      <th>invoice_status</th>\n",
              "      <th>service_status</th>\n",
              "      <th>product_id</th>\n",
              "      <th>monthly_price_usd</th>\n",
              "      <th>discount</th>\n",
              "      <th>service_period</th>\n",
              "      <th>client_task</th>\n",
              "      <th>invoice_created_at</th>\n",
              "      <th>invoice_paid_at</th>\n",
              "      <th>service_cancelled_at</th>\n",
              "      <th>monthly_period</th>\n",
              "      <th>total_price</th>\n",
              "      <th>discounted_price</th>\n",
              "    </tr>\n",
              "  </thead>\n",
              "  <tbody>\n",
              "    <tr>\n",
              "      <th>89540</th>\n",
              "      <td>259942</td>\n",
              "      <td>881975.0</td>\n",
              "      <td>884574</td>\n",
              "      <td>Paid</td>\n",
              "      <td>Active</td>\n",
              "      <td>3</td>\n",
              "      <td>13</td>\n",
              "      <td>0.50</td>\n",
              "      <td>1Y</td>\n",
              "      <td>Activate</td>\n",
              "      <td>2019-12-16T06:14:36Z</td>\n",
              "      <td>2019-12-18T06:21:09Z</td>\n",
              "      <td>NaN</td>\n",
              "      <td>12</td>\n",
              "      <td>156</td>\n",
              "      <td>78.00</td>\n",
              "    </tr>\n",
              "    <tr>\n",
              "      <th>89541</th>\n",
              "      <td>84615</td>\n",
              "      <td>882013.0</td>\n",
              "      <td>1070069</td>\n",
              "      <td>Paid</td>\n",
              "      <td>Active</td>\n",
              "      <td>3</td>\n",
              "      <td>13</td>\n",
              "      <td>0.50</td>\n",
              "      <td>1Y</td>\n",
              "      <td>Renew</td>\n",
              "      <td>2019-12-16T07:00:45Z</td>\n",
              "      <td>2019-12-20T03:20:26Z</td>\n",
              "      <td>NaN</td>\n",
              "      <td>12</td>\n",
              "      <td>156</td>\n",
              "      <td>78.00</td>\n",
              "    </tr>\n",
              "    <tr>\n",
              "      <th>89542</th>\n",
              "      <td>129895</td>\n",
              "      <td>882042.0</td>\n",
              "      <td>1155193</td>\n",
              "      <td>Paid</td>\n",
              "      <td>Active</td>\n",
              "      <td>4</td>\n",
              "      <td>18</td>\n",
              "      <td>0.37</td>\n",
              "      <td>1Y</td>\n",
              "      <td>Renew</td>\n",
              "      <td>2019-12-16T07:24:39Z</td>\n",
              "      <td>2019-12-16T10:04:59Z</td>\n",
              "      <td>NaN</td>\n",
              "      <td>12</td>\n",
              "      <td>216</td>\n",
              "      <td>136.08</td>\n",
              "    </tr>\n",
              "    <tr>\n",
              "      <th>89543</th>\n",
              "      <td>259997</td>\n",
              "      <td>882147.0</td>\n",
              "      <td>952162</td>\n",
              "      <td>Paid</td>\n",
              "      <td>Active</td>\n",
              "      <td>3</td>\n",
              "      <td>13</td>\n",
              "      <td>0.75</td>\n",
              "      <td>3Y</td>\n",
              "      <td>Activate</td>\n",
              "      <td>2019-12-16T09:17:21Z</td>\n",
              "      <td>2019-12-16T09:20:06Z</td>\n",
              "      <td>NaN</td>\n",
              "      <td>36</td>\n",
              "      <td>468</td>\n",
              "      <td>117.00</td>\n",
              "    </tr>\n",
              "    <tr>\n",
              "      <th>89544</th>\n",
              "      <td>251782</td>\n",
              "      <td>882187.0</td>\n",
              "      <td>920682</td>\n",
              "      <td>Paid</td>\n",
              "      <td>Active</td>\n",
              "      <td>3</td>\n",
              "      <td>13</td>\n",
              "      <td>0.78</td>\n",
              "      <td>3Y</td>\n",
              "      <td>Activate</td>\n",
              "      <td>2019-12-16T10:23:09Z</td>\n",
              "      <td>2019-12-16T10:26:42Z</td>\n",
              "      <td>NaN</td>\n",
              "      <td>36</td>\n",
              "      <td>468</td>\n",
              "      <td>102.96</td>\n",
              "    </tr>\n",
              "  </tbody>\n",
              "</table>\n",
              "</div>"
            ],
            "text/plain": [
              "       client_id  invoice_id  ...  total_price discounted_price\n",
              "89540     259942    881975.0  ...          156            78.00\n",
              "89541      84615    882013.0  ...          156            78.00\n",
              "89542     129895    882042.0  ...          216           136.08\n",
              "89543     259997    882147.0  ...          468           117.00\n",
              "89544     251782    882187.0  ...          468           102.96\n",
              "\n",
              "[5 rows x 16 columns]"
            ]
          },
          "metadata": {
            "tags": []
          },
          "execution_count": 5
        }
      ]
    },
    {
      "cell_type": "code",
      "metadata": {
        "id": "AI00nU5JKZc7",
        "colab_type": "code",
        "colab": {
          "base_uri": "https://localhost:8080/",
          "height": 261
        },
        "outputId": "fb969ee7-b197-41d3-a779-2d8928afaf80"
      },
      "source": [
        "# Sampling to getting to know the Duplicate, Except First Row\n",
        "SalesDataDuplicate.loc[SalesDataDuplicate['invoice_id'] == 879438.0] #3\n",
        "SalesData.loc[SalesData['invoice_id'] == 879438.0] #4"
      ],
      "execution_count": 6,
      "outputs": [
        {
          "output_type": "execute_result",
          "data": {
            "text/html": [
              "<div>\n",
              "<style scoped>\n",
              "    .dataframe tbody tr th:only-of-type {\n",
              "        vertical-align: middle;\n",
              "    }\n",
              "\n",
              "    .dataframe tbody tr th {\n",
              "        vertical-align: top;\n",
              "    }\n",
              "\n",
              "    .dataframe thead th {\n",
              "        text-align: right;\n",
              "    }\n",
              "</style>\n",
              "<table border=\"1\" class=\"dataframe\">\n",
              "  <thead>\n",
              "    <tr style=\"text-align: right;\">\n",
              "      <th></th>\n",
              "      <th>client_id</th>\n",
              "      <th>invoice_id</th>\n",
              "      <th>invoice_item_id</th>\n",
              "      <th>invoice_status</th>\n",
              "      <th>service_status</th>\n",
              "      <th>product_id</th>\n",
              "      <th>monthly_price_usd</th>\n",
              "      <th>discount</th>\n",
              "      <th>service_period</th>\n",
              "      <th>client_task</th>\n",
              "      <th>invoice_created_at</th>\n",
              "      <th>invoice_paid_at</th>\n",
              "      <th>service_cancelled_at</th>\n",
              "      <th>monthly_period</th>\n",
              "      <th>total_price</th>\n",
              "      <th>discounted_price</th>\n",
              "    </tr>\n",
              "  </thead>\n",
              "  <tbody>\n",
              "    <tr>\n",
              "      <th>128</th>\n",
              "      <td>247837</td>\n",
              "      <td>879438.0</td>\n",
              "      <td>960520</td>\n",
              "      <td>Paid</td>\n",
              "      <td>Active</td>\n",
              "      <td>3</td>\n",
              "      <td>13</td>\n",
              "      <td>0.78</td>\n",
              "      <td>3Y</td>\n",
              "      <td>Activate</td>\n",
              "      <td>2019-12-13T11:55:39Z</td>\n",
              "      <td>2019-12-13T11:58:23Z</td>\n",
              "      <td>NaN</td>\n",
              "      <td>36</td>\n",
              "      <td>468</td>\n",
              "      <td>102.96</td>\n",
              "    </tr>\n",
              "    <tr>\n",
              "      <th>515</th>\n",
              "      <td>247837</td>\n",
              "      <td>879438.0</td>\n",
              "      <td>988495</td>\n",
              "      <td>Paid</td>\n",
              "      <td>Cancelled</td>\n",
              "      <td>3</td>\n",
              "      <td>13</td>\n",
              "      <td>0.75</td>\n",
              "      <td>3Y</td>\n",
              "      <td>Activate</td>\n",
              "      <td>2019-12-13T11:55:39Z</td>\n",
              "      <td>2019-12-13T11:58:23Z</td>\n",
              "      <td>NaN</td>\n",
              "      <td>36</td>\n",
              "      <td>468</td>\n",
              "      <td>117.00</td>\n",
              "    </tr>\n",
              "    <tr>\n",
              "      <th>51552</th>\n",
              "      <td>247837</td>\n",
              "      <td>879438.0</td>\n",
              "      <td>1229821</td>\n",
              "      <td>Paid</td>\n",
              "      <td>Active</td>\n",
              "      <td>3</td>\n",
              "      <td>13</td>\n",
              "      <td>0.78</td>\n",
              "      <td>3Y</td>\n",
              "      <td>Activate</td>\n",
              "      <td>2019-12-13T11:55:39Z</td>\n",
              "      <td>2019-12-13T11:58:23Z</td>\n",
              "      <td>NaN</td>\n",
              "      <td>36</td>\n",
              "      <td>468</td>\n",
              "      <td>102.96</td>\n",
              "    </tr>\n",
              "    <tr>\n",
              "      <th>51553</th>\n",
              "      <td>247837</td>\n",
              "      <td>879438.0</td>\n",
              "      <td>1229822</td>\n",
              "      <td>Paid</td>\n",
              "      <td>Cancelled</td>\n",
              "      <td>3</td>\n",
              "      <td>13</td>\n",
              "      <td>0.75</td>\n",
              "      <td>3Y</td>\n",
              "      <td>Activate</td>\n",
              "      <td>2019-12-13T11:55:39Z</td>\n",
              "      <td>2019-12-13T11:58:23Z</td>\n",
              "      <td>NaN</td>\n",
              "      <td>36</td>\n",
              "      <td>468</td>\n",
              "      <td>117.00</td>\n",
              "    </tr>\n",
              "  </tbody>\n",
              "</table>\n",
              "</div>"
            ],
            "text/plain": [
              "       client_id  invoice_id  ...  total_price discounted_price\n",
              "128       247837    879438.0  ...          468           102.96\n",
              "515       247837    879438.0  ...          468           117.00\n",
              "51552     247837    879438.0  ...          468           102.96\n",
              "51553     247837    879438.0  ...          468           117.00\n",
              "\n",
              "[4 rows x 16 columns]"
            ]
          },
          "metadata": {
            "tags": []
          },
          "execution_count": 6
        }
      ]
    },
    {
      "cell_type": "code",
      "metadata": {
        "id": "W4vTzlyPL-jg",
        "colab_type": "code",
        "colab": {
          "base_uri": "https://localhost:8080/",
          "height": 309
        },
        "outputId": "cc2ae378-6469-45db-f771-9293e15f828c"
      },
      "source": [
        "# Start Cleaning\n",
        "SalesDataClean = SalesData.drop(list(list(SalesDataDuplicate.index)))\n",
        "SalesDataClean.tail()"
      ],
      "execution_count": 7,
      "outputs": [
        {
          "output_type": "execute_result",
          "data": {
            "text/html": [
              "<div>\n",
              "<style scoped>\n",
              "    .dataframe tbody tr th:only-of-type {\n",
              "        vertical-align: middle;\n",
              "    }\n",
              "\n",
              "    .dataframe tbody tr th {\n",
              "        vertical-align: top;\n",
              "    }\n",
              "\n",
              "    .dataframe thead th {\n",
              "        text-align: right;\n",
              "    }\n",
              "</style>\n",
              "<table border=\"1\" class=\"dataframe\">\n",
              "  <thead>\n",
              "    <tr style=\"text-align: right;\">\n",
              "      <th></th>\n",
              "      <th>client_id</th>\n",
              "      <th>invoice_id</th>\n",
              "      <th>invoice_item_id</th>\n",
              "      <th>invoice_status</th>\n",
              "      <th>service_status</th>\n",
              "      <th>product_id</th>\n",
              "      <th>monthly_price_usd</th>\n",
              "      <th>discount</th>\n",
              "      <th>service_period</th>\n",
              "      <th>client_task</th>\n",
              "      <th>invoice_created_at</th>\n",
              "      <th>invoice_paid_at</th>\n",
              "      <th>service_cancelled_at</th>\n",
              "      <th>monthly_period</th>\n",
              "      <th>total_price</th>\n",
              "      <th>discounted_price</th>\n",
              "    </tr>\n",
              "  </thead>\n",
              "  <tbody>\n",
              "    <tr>\n",
              "      <th>88217</th>\n",
              "      <td>167962</td>\n",
              "      <td>882294.0</td>\n",
              "      <td>1234042</td>\n",
              "      <td>Unpaid</td>\n",
              "      <td>Pending Setup</td>\n",
              "      <td>1</td>\n",
              "      <td>6</td>\n",
              "      <td>0.29</td>\n",
              "      <td>1Y</td>\n",
              "      <td>Activate</td>\n",
              "      <td>2019-12-16T15:50:32Z</td>\n",
              "      <td>NaN</td>\n",
              "      <td>NaN</td>\n",
              "      <td>12</td>\n",
              "      <td>72</td>\n",
              "      <td>51.12</td>\n",
              "    </tr>\n",
              "    <tr>\n",
              "      <th>88218</th>\n",
              "      <td>154829</td>\n",
              "      <td>882303.0</td>\n",
              "      <td>1234057</td>\n",
              "      <td>Unpaid</td>\n",
              "      <td>Pending Setup</td>\n",
              "      <td>4</td>\n",
              "      <td>18</td>\n",
              "      <td>0.42</td>\n",
              "      <td>1Y</td>\n",
              "      <td>Activate</td>\n",
              "      <td>2019-12-16T16:17:52Z</td>\n",
              "      <td>NaN</td>\n",
              "      <td>NaN</td>\n",
              "      <td>12</td>\n",
              "      <td>216</td>\n",
              "      <td>125.28</td>\n",
              "    </tr>\n",
              "    <tr>\n",
              "      <th>88219</th>\n",
              "      <td>260103</td>\n",
              "      <td>882308.0</td>\n",
              "      <td>1234065</td>\n",
              "      <td>Unpaid</td>\n",
              "      <td>Pending Setup</td>\n",
              "      <td>1</td>\n",
              "      <td>6</td>\n",
              "      <td>0.32</td>\n",
              "      <td>1Y</td>\n",
              "      <td>Activate</td>\n",
              "      <td>2019-12-16T16:30:42Z</td>\n",
              "      <td>NaN</td>\n",
              "      <td>NaN</td>\n",
              "      <td>12</td>\n",
              "      <td>72</td>\n",
              "      <td>48.96</td>\n",
              "    </tr>\n",
              "    <tr>\n",
              "      <th>88220</th>\n",
              "      <td>123628</td>\n",
              "      <td>882310.0</td>\n",
              "      <td>1234067</td>\n",
              "      <td>Unpaid</td>\n",
              "      <td>Active</td>\n",
              "      <td>2</td>\n",
              "      <td>9</td>\n",
              "      <td>0.31</td>\n",
              "      <td>1Y</td>\n",
              "      <td>Activate</td>\n",
              "      <td>2019-12-16T16:36:42Z</td>\n",
              "      <td>NaN</td>\n",
              "      <td>NaN</td>\n",
              "      <td>12</td>\n",
              "      <td>108</td>\n",
              "      <td>74.52</td>\n",
              "    </tr>\n",
              "    <tr>\n",
              "      <th>88221</th>\n",
              "      <td>167962</td>\n",
              "      <td>882312.0</td>\n",
              "      <td>1234070</td>\n",
              "      <td>Unpaid</td>\n",
              "      <td>Pending Setup</td>\n",
              "      <td>1</td>\n",
              "      <td>6</td>\n",
              "      <td>0.29</td>\n",
              "      <td>1Y</td>\n",
              "      <td>Activate</td>\n",
              "      <td>2019-12-16T16:42:36Z</td>\n",
              "      <td>NaN</td>\n",
              "      <td>NaN</td>\n",
              "      <td>12</td>\n",
              "      <td>72</td>\n",
              "      <td>51.12</td>\n",
              "    </tr>\n",
              "  </tbody>\n",
              "</table>\n",
              "</div>"
            ],
            "text/plain": [
              "       client_id  invoice_id  ...  total_price discounted_price\n",
              "88217     167962    882294.0  ...           72            51.12\n",
              "88218     154829    882303.0  ...          216           125.28\n",
              "88219     260103    882308.0  ...           72            48.96\n",
              "88220     123628    882310.0  ...          108            74.52\n",
              "88221     167962    882312.0  ...           72            51.12\n",
              "\n",
              "[5 rows x 16 columns]"
            ]
          },
          "metadata": {
            "tags": []
          },
          "execution_count": 7
        }
      ]
    },
    {
      "cell_type": "code",
      "metadata": {
        "id": "RX0NqavF2EOu",
        "colab_type": "code",
        "colab": {
          "base_uri": "https://localhost:8080/",
          "height": 85
        },
        "outputId": "0af6236d-6680-4f69-cb00-10da982115e2"
      },
      "source": [
        "# Conclusion in Number\n",
        "print(\"So, \\nThe number of Records in Raw Sales Data: \" + str(len(SalesData))\n",
        "      + \"\\nThe number of Records in Duplicated Sales Data: \" + str(len(SalesDataDuplicate))\n",
        "      + \"\\nThe number of Records in Cleaned Sales Data: \" + str(len(SalesDataClean)))"
      ],
      "execution_count": 8,
      "outputs": [
        {
          "output_type": "stream",
          "text": [
            "So, \n",
            "The number of Records in Raw Sales Data: 89545\n",
            "The number of Records in Duplicated Sales Data: 3718\n",
            "The number of Records in Cleaned Sales Data: 85827\n"
          ],
          "name": "stdout"
        }
      ]
    },
    {
      "cell_type": "markdown",
      "metadata": {
        "id": "XfNoatw4WOmd",
        "colab_type": "text"
      },
      "source": [
        "# ***Question B***\n",
        "What's the total number of sales along with the total revenue shared from each product? <br> Arrange the result by the total revenue in descending order."
      ]
    },
    {
      "cell_type": "code",
      "metadata": {
        "id": "eRnP5rWHWPD3",
        "colab_type": "code",
        "colab": {
          "base_uri": "https://localhost:8080/",
          "height": 51
        },
        "outputId": "fbc7b149-30f2-45d6-8b73-42363c062a80"
      },
      "source": [
        "# Status Exploration\n",
        "print(SalesData.invoice_status.unique())\n",
        "print(SalesData.service_status.unique())"
      ],
      "execution_count": 9,
      "outputs": [
        {
          "output_type": "stream",
          "text": [
            "['Paid' 'Refunded' 'Cancelled' 'Unpaid']\n",
            "['Active' 'Suspended' 'Cancelled' 'Failed Setup' 'Pending Setup']\n"
          ],
          "name": "stdout"
        }
      ]
    },
    {
      "cell_type": "markdown",
      "metadata": {
        "id": "uZqlTdX_SjF1",
        "colab_type": "text"
      },
      "source": [
        "For Question B up to Question F we need to eliminate All the Records with invoice_status Refunded, Cancelled, Unpaid since we can't do sales analysis if the customer itself has not bought a Product"
      ]
    },
    {
      "cell_type": "code",
      "metadata": {
        "id": "oJcBVancR6K5",
        "colab_type": "code",
        "colab": {
          "base_uri": "https://localhost:8080/",
          "height": 309
        },
        "outputId": "15105dc4-3f89-4593-8e64-9d0d48a3994d"
      },
      "source": [
        "# Start eliminating those who hass not Bought or not in PAID invoice_status\n",
        "SalesDataCleanPaid = SalesDataClean.loc[SalesDataClean['invoice_status'] == 'Paid']\n",
        "SalesDataCleanPaid.tail()"
      ],
      "execution_count": 10,
      "outputs": [
        {
          "output_type": "execute_result",
          "data": {
            "text/html": [
              "<div>\n",
              "<style scoped>\n",
              "    .dataframe tbody tr th:only-of-type {\n",
              "        vertical-align: middle;\n",
              "    }\n",
              "\n",
              "    .dataframe tbody tr th {\n",
              "        vertical-align: top;\n",
              "    }\n",
              "\n",
              "    .dataframe thead th {\n",
              "        text-align: right;\n",
              "    }\n",
              "</style>\n",
              "<table border=\"1\" class=\"dataframe\">\n",
              "  <thead>\n",
              "    <tr style=\"text-align: right;\">\n",
              "      <th></th>\n",
              "      <th>client_id</th>\n",
              "      <th>invoice_id</th>\n",
              "      <th>invoice_item_id</th>\n",
              "      <th>invoice_status</th>\n",
              "      <th>service_status</th>\n",
              "      <th>product_id</th>\n",
              "      <th>monthly_price_usd</th>\n",
              "      <th>discount</th>\n",
              "      <th>service_period</th>\n",
              "      <th>client_task</th>\n",
              "      <th>invoice_created_at</th>\n",
              "      <th>invoice_paid_at</th>\n",
              "      <th>service_cancelled_at</th>\n",
              "      <th>monthly_period</th>\n",
              "      <th>total_price</th>\n",
              "      <th>discounted_price</th>\n",
              "    </tr>\n",
              "  </thead>\n",
              "  <tbody>\n",
              "    <tr>\n",
              "      <th>52423</th>\n",
              "      <td>74461</td>\n",
              "      <td>876940.0</td>\n",
              "      <td>1225832</td>\n",
              "      <td>Paid</td>\n",
              "      <td>Active</td>\n",
              "      <td>3</td>\n",
              "      <td>13</td>\n",
              "      <td>0.50</td>\n",
              "      <td>3Y</td>\n",
              "      <td>Renew</td>\n",
              "      <td>2019-12-11T00:00:41Z</td>\n",
              "      <td>2019-12-31T02:57:17Z</td>\n",
              "      <td>NaN</td>\n",
              "      <td>36</td>\n",
              "      <td>468</td>\n",
              "      <td>234.00</td>\n",
              "    </tr>\n",
              "    <tr>\n",
              "      <th>52426</th>\n",
              "      <td>15425</td>\n",
              "      <td>880099.0</td>\n",
              "      <td>1230653</td>\n",
              "      <td>Paid</td>\n",
              "      <td>Active</td>\n",
              "      <td>3</td>\n",
              "      <td>13</td>\n",
              "      <td>0.50</td>\n",
              "      <td>1Y</td>\n",
              "      <td>Renew</td>\n",
              "      <td>2019-12-13T22:12:57Z</td>\n",
              "      <td>2019-12-31T09:03:16Z</td>\n",
              "      <td>NaN</td>\n",
              "      <td>12</td>\n",
              "      <td>156</td>\n",
              "      <td>78.00</td>\n",
              "    </tr>\n",
              "    <tr>\n",
              "      <th>52427</th>\n",
              "      <td>50642</td>\n",
              "      <td>877841.0</td>\n",
              "      <td>1227281</td>\n",
              "      <td>Paid</td>\n",
              "      <td>Active</td>\n",
              "      <td>3</td>\n",
              "      <td>13</td>\n",
              "      <td>0.50</td>\n",
              "      <td>1Y</td>\n",
              "      <td>Renew</td>\n",
              "      <td>2019-12-11T20:24:53Z</td>\n",
              "      <td>2019-12-31T09:37:55Z</td>\n",
              "      <td>NaN</td>\n",
              "      <td>12</td>\n",
              "      <td>156</td>\n",
              "      <td>78.00</td>\n",
              "    </tr>\n",
              "    <tr>\n",
              "      <th>52429</th>\n",
              "      <td>69925</td>\n",
              "      <td>881656.0</td>\n",
              "      <td>1232953</td>\n",
              "      <td>Paid</td>\n",
              "      <td>Active</td>\n",
              "      <td>12</td>\n",
              "      <td>49</td>\n",
              "      <td>0.11</td>\n",
              "      <td>1M</td>\n",
              "      <td>Renew</td>\n",
              "      <td>2019-12-15T20:12:53Z</td>\n",
              "      <td>2019-12-31T10:45:22Z</td>\n",
              "      <td>NaN</td>\n",
              "      <td>1</td>\n",
              "      <td>49</td>\n",
              "      <td>43.61</td>\n",
              "    </tr>\n",
              "    <tr>\n",
              "      <th>78426</th>\n",
              "      <td>235710</td>\n",
              "      <td>798135.0</td>\n",
              "      <td>1104274</td>\n",
              "      <td>Paid</td>\n",
              "      <td>Pending Setup</td>\n",
              "      <td>3</td>\n",
              "      <td>13</td>\n",
              "      <td>0.50</td>\n",
              "      <td>1Y</td>\n",
              "      <td>Activate</td>\n",
              "      <td>2019-09-17T04:11:42Z</td>\n",
              "      <td>NaN</td>\n",
              "      <td>NaN</td>\n",
              "      <td>12</td>\n",
              "      <td>156</td>\n",
              "      <td>78.00</td>\n",
              "    </tr>\n",
              "  </tbody>\n",
              "</table>\n",
              "</div>"
            ],
            "text/plain": [
              "       client_id  invoice_id  ...  total_price discounted_price\n",
              "52423      74461    876940.0  ...          468           234.00\n",
              "52426      15425    880099.0  ...          156            78.00\n",
              "52427      50642    877841.0  ...          156            78.00\n",
              "52429      69925    881656.0  ...           49            43.61\n",
              "78426     235710    798135.0  ...          156            78.00\n",
              "\n",
              "[5 rows x 16 columns]"
            ]
          },
          "metadata": {
            "tags": []
          },
          "execution_count": 10
        }
      ]
    },
    {
      "cell_type": "code",
      "metadata": {
        "id": "8HaVBdBwUEFH",
        "colab_type": "code",
        "colab": {}
      },
      "source": [
        ""
      ],
      "execution_count": 10,
      "outputs": []
    },
    {
      "cell_type": "markdown",
      "metadata": {
        "id": "wMQ32FShWPTD",
        "colab_type": "text"
      },
      "source": [
        "# ***Question C***\n",
        "The company is planning to give free vouchers to its loyal customers at the end of the year. <br> How do you define \"loyal\" in this case and explain why? <br> List 100 customers who are eligible to get free vouchers based on your definition of \"loyal\"."
      ]
    },
    {
      "cell_type": "code",
      "metadata": {
        "id": "hrMsTTdXWPgL",
        "colab_type": "code",
        "colab": {}
      },
      "source": [
        ""
      ],
      "execution_count": 10,
      "outputs": []
    },
    {
      "cell_type": "markdown",
      "metadata": {
        "id": "v6Mg4edzWPtr",
        "colab_type": "text"
      },
      "source": [
        "# ***Question D***\n",
        "What's the average time duration for clients to complete their payments? <br> Hint: you may want to check the distribution of all those time durations to choose a correct central-tendency measure"
      ]
    },
    {
      "cell_type": "code",
      "metadata": {
        "id": "uQb9YquPWP4f",
        "colab_type": "code",
        "colab": {}
      },
      "source": [
        ""
      ],
      "execution_count": 10,
      "outputs": []
    },
    {
      "cell_type": "markdown",
      "metadata": {
        "id": "YcJa5bgdWQC9",
        "colab_type": "text"
      },
      "source": [
        "# ***Question E***\n",
        "How would you segment the company's customers based on their purchase history? <br> While you are allowed to use your own intuition, you should always support your argument using the data available."
      ]
    },
    {
      "cell_type": "code",
      "metadata": {
        "id": "IyYOfhLoWQME",
        "colab_type": "code",
        "colab": {}
      },
      "source": [
        ""
      ],
      "execution_count": 10,
      "outputs": []
    },
    {
      "cell_type": "markdown",
      "metadata": {
        "id": "sdzRbwZiWQWD",
        "colab_type": "text"
      },
      "source": [
        "# ***Question F***\n",
        "Explore the data. State your interesting findings as well as recommendation (if any) to the product team."
      ]
    },
    {
      "cell_type": "code",
      "metadata": {
        "id": "ukOHjkBmWQfB",
        "colab_type": "code",
        "colab": {}
      },
      "source": [
        ""
      ],
      "execution_count": 10,
      "outputs": []
    }
  ]
}