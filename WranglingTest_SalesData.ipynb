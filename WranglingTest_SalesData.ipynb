{
  "nbformat": 4,
  "nbformat_minor": 0,
  "metadata": {
    "colab": {
      "name": "WranglingTest_SalesData",
      "provenance": [],
      "collapsed_sections": [],
      "toc_visible": true,
      "authorship_tag": "ABX9TyMxTMJSUvpllDuFrr2IvsdO"
    },
    "kernelspec": {
      "name": "python3",
      "display_name": "Python 3"
    }
  },
  "cells": [
    {
      "cell_type": "markdown",
      "metadata": {
        "id": "LzyyfzUGRF00",
        "colab_type": "text"
      },
      "source": [
        "# ***Mount Drive***"
      ]
    },
    {
      "cell_type": "code",
      "metadata": {
        "id": "HMQ4IjO2RDCE",
        "colab_type": "code",
        "colab": {
          "base_uri": "https://localhost:8080/",
          "height": 54
        },
        "outputId": "9c988532-63ab-40aa-f382-d855a1d138ac"
      },
      "source": [
        "# Mount!\n",
        "from google.colab import drive\n",
        "drive.mount('/content/drive')"
      ],
      "execution_count": 1,
      "outputs": [
        {
          "output_type": "stream",
          "text": [
            "Drive already mounted at /content/drive; to attempt to forcibly remount, call drive.mount(\"/content/drive\", force_remount=True).\n"
          ],
          "name": "stdout"
        }
      ]
    },
    {
      "cell_type": "markdown",
      "metadata": {
        "id": "yPXr-5RiRaVs",
        "colab_type": "text"
      },
      "source": [
        "# ***Load Libraries***"
      ]
    },
    {
      "cell_type": "code",
      "metadata": {
        "id": "5NqyR9k2RK8i",
        "colab_type": "code",
        "colab": {
          "base_uri": "https://localhost:8080/",
          "height": 71
        },
        "outputId": "36874c9b-0d58-4dfb-cab4-b166abd539ba"
      },
      "source": [
        "# Import some mainstream Library \n",
        "import pandas as pd\n",
        "import numpy as np\n",
        "import matplotlib.pyplot as plt\n",
        "import seaborn as sns\n",
        "import time \n",
        "import datetime as dt\n",
        "\n",
        "from scipy import stats\n",
        "from numpy import hstack \n",
        "from functools import reduce\n",
        "from sklearn.model_selection import train_test_split\n",
        "from sklearn.preprocessing import MinMaxScaler"
      ],
      "execution_count": 2,
      "outputs": [
        {
          "output_type": "stream",
          "text": [
            "/usr/local/lib/python3.6/dist-packages/statsmodels/tools/_testing.py:19: FutureWarning: pandas.util.testing is deprecated. Use the functions in the public API at pandas.testing instead.\n",
            "  import pandas.util.testing as tm\n"
          ],
          "name": "stderr"
        }
      ]
    },
    {
      "cell_type": "markdown",
      "metadata": {
        "id": "mdLT6SJXU__r",
        "colab_type": "text"
      },
      "source": [
        "# ***Determine Open/Save Directory***"
      ]
    },
    {
      "cell_type": "code",
      "metadata": {
        "id": "KS8lDpKjVU9H",
        "colab_type": "code",
        "colab": {
          "base_uri": "https://localhost:8080/",
          "height": 309
        },
        "outputId": "a23ba6c3-1a0c-45a1-a980-0a2d98d2bd04"
      },
      "source": [
        "# Determine the Path and Retrieve the Data\n",
        "pathDatasets = '/content/drive/My Drive/Colab/Projects - Niagahoster/Datasets/' #Getting Datasets\n",
        "pathResults = '/content/drive/My Drive/Colab/Projects - Niagahoster/Results/' #Saving Excel, Image, etc\n",
        "\n",
        "SalesData = pd.read_csv(pathDatasets + 'NH_Technical_Test.csv')\n",
        "SalesData.tail()"
      ],
      "execution_count": 3,
      "outputs": [
        {
          "output_type": "execute_result",
          "data": {
            "text/html": [
              "<div>\n",
              "<style scoped>\n",
              "    .dataframe tbody tr th:only-of-type {\n",
              "        vertical-align: middle;\n",
              "    }\n",
              "\n",
              "    .dataframe tbody tr th {\n",
              "        vertical-align: top;\n",
              "    }\n",
              "\n",
              "    .dataframe thead th {\n",
              "        text-align: right;\n",
              "    }\n",
              "</style>\n",
              "<table border=\"1\" class=\"dataframe\">\n",
              "  <thead>\n",
              "    <tr style=\"text-align: right;\">\n",
              "      <th></th>\n",
              "      <th>client_id</th>\n",
              "      <th>invoice_id</th>\n",
              "      <th>invoice_item_id</th>\n",
              "      <th>invoice_status</th>\n",
              "      <th>service_status</th>\n",
              "      <th>product_id</th>\n",
              "      <th>monthly_price_usd</th>\n",
              "      <th>discount</th>\n",
              "      <th>service_period</th>\n",
              "      <th>client_task</th>\n",
              "      <th>invoice_created_at</th>\n",
              "      <th>invoice_paid_at</th>\n",
              "      <th>service_cancelled_at</th>\n",
              "      <th>monthly_period</th>\n",
              "      <th>total_price</th>\n",
              "      <th>discounted_price</th>\n",
              "    </tr>\n",
              "  </thead>\n",
              "  <tbody>\n",
              "    <tr>\n",
              "      <th>89540</th>\n",
              "      <td>259942</td>\n",
              "      <td>881975.0</td>\n",
              "      <td>884574</td>\n",
              "      <td>Paid</td>\n",
              "      <td>Active</td>\n",
              "      <td>3</td>\n",
              "      <td>13</td>\n",
              "      <td>0.50</td>\n",
              "      <td>1Y</td>\n",
              "      <td>Activate</td>\n",
              "      <td>2019-12-16T06:14:36Z</td>\n",
              "      <td>2019-12-18T06:21:09Z</td>\n",
              "      <td>NaN</td>\n",
              "      <td>12</td>\n",
              "      <td>156</td>\n",
              "      <td>78.00</td>\n",
              "    </tr>\n",
              "    <tr>\n",
              "      <th>89541</th>\n",
              "      <td>84615</td>\n",
              "      <td>882013.0</td>\n",
              "      <td>1070069</td>\n",
              "      <td>Paid</td>\n",
              "      <td>Active</td>\n",
              "      <td>3</td>\n",
              "      <td>13</td>\n",
              "      <td>0.50</td>\n",
              "      <td>1Y</td>\n",
              "      <td>Renew</td>\n",
              "      <td>2019-12-16T07:00:45Z</td>\n",
              "      <td>2019-12-20T03:20:26Z</td>\n",
              "      <td>NaN</td>\n",
              "      <td>12</td>\n",
              "      <td>156</td>\n",
              "      <td>78.00</td>\n",
              "    </tr>\n",
              "    <tr>\n",
              "      <th>89542</th>\n",
              "      <td>129895</td>\n",
              "      <td>882042.0</td>\n",
              "      <td>1155193</td>\n",
              "      <td>Paid</td>\n",
              "      <td>Active</td>\n",
              "      <td>4</td>\n",
              "      <td>18</td>\n",
              "      <td>0.37</td>\n",
              "      <td>1Y</td>\n",
              "      <td>Renew</td>\n",
              "      <td>2019-12-16T07:24:39Z</td>\n",
              "      <td>2019-12-16T10:04:59Z</td>\n",
              "      <td>NaN</td>\n",
              "      <td>12</td>\n",
              "      <td>216</td>\n",
              "      <td>136.08</td>\n",
              "    </tr>\n",
              "    <tr>\n",
              "      <th>89543</th>\n",
              "      <td>259997</td>\n",
              "      <td>882147.0</td>\n",
              "      <td>952162</td>\n",
              "      <td>Paid</td>\n",
              "      <td>Active</td>\n",
              "      <td>3</td>\n",
              "      <td>13</td>\n",
              "      <td>0.75</td>\n",
              "      <td>3Y</td>\n",
              "      <td>Activate</td>\n",
              "      <td>2019-12-16T09:17:21Z</td>\n",
              "      <td>2019-12-16T09:20:06Z</td>\n",
              "      <td>NaN</td>\n",
              "      <td>36</td>\n",
              "      <td>468</td>\n",
              "      <td>117.00</td>\n",
              "    </tr>\n",
              "    <tr>\n",
              "      <th>89544</th>\n",
              "      <td>251782</td>\n",
              "      <td>882187.0</td>\n",
              "      <td>920682</td>\n",
              "      <td>Paid</td>\n",
              "      <td>Active</td>\n",
              "      <td>3</td>\n",
              "      <td>13</td>\n",
              "      <td>0.78</td>\n",
              "      <td>3Y</td>\n",
              "      <td>Activate</td>\n",
              "      <td>2019-12-16T10:23:09Z</td>\n",
              "      <td>2019-12-16T10:26:42Z</td>\n",
              "      <td>NaN</td>\n",
              "      <td>36</td>\n",
              "      <td>468</td>\n",
              "      <td>102.96</td>\n",
              "    </tr>\n",
              "  </tbody>\n",
              "</table>\n",
              "</div>"
            ],
            "text/plain": [
              "       client_id  invoice_id  ...  total_price discounted_price\n",
              "89540     259942    881975.0  ...          156            78.00\n",
              "89541      84615    882013.0  ...          156            78.00\n",
              "89542     129895    882042.0  ...          216           136.08\n",
              "89543     259997    882147.0  ...          468           117.00\n",
              "89544     251782    882187.0  ...          468           102.96\n",
              "\n",
              "[5 rows x 16 columns]"
            ]
          },
          "metadata": {
            "tags": []
          },
          "execution_count": 3
        }
      ]
    },
    {
      "cell_type": "markdown",
      "metadata": {
        "id": "JrWJW8TqkY-j",
        "colab_type": "text"
      },
      "source": [
        "# ***A bit of Exploration and Pre-Process***"
      ]
    },
    {
      "cell_type": "code",
      "metadata": {
        "id": "LzxO9O8PbK16",
        "colab_type": "code",
        "colab": {
          "base_uri": "https://localhost:8080/",
          "height": 545
        },
        "outputId": "52098d9a-8354-46e9-d3ce-4eb1608c2e44"
      },
      "source": [
        "# Exploring Count of Distinct Value and Total Value\n",
        "cntDistinct = SalesData.nunique() #Count distict values\n",
        "cntCount = SalesData.count() #Count only non-null values\n",
        "cntDistinct = pd.DataFrame(data=cntDistinct)\n",
        "cntCount = pd.DataFrame(data=cntCount)\n",
        "cntDistinct['col'], cntCount['col']= cntDistinct.index, cntCount.index\n",
        "\n",
        "cntMerge = [cntDistinct, cntCount]\n",
        "cntMerge = reduce(lambda left,right: pd.merge(left,right,on='col',how='left'), cntMerge)\n",
        "cntMerge = cntMerge[['col', '0_x', '0_y']]\n",
        "cntMerge.columns = ['col', 'distinct', 'count']\n",
        "cntMerge"
      ],
      "execution_count": 4,
      "outputs": [
        {
          "output_type": "execute_result",
          "data": {
            "text/html": [
              "<div>\n",
              "<style scoped>\n",
              "    .dataframe tbody tr th:only-of-type {\n",
              "        vertical-align: middle;\n",
              "    }\n",
              "\n",
              "    .dataframe tbody tr th {\n",
              "        vertical-align: top;\n",
              "    }\n",
              "\n",
              "    .dataframe thead th {\n",
              "        text-align: right;\n",
              "    }\n",
              "</style>\n",
              "<table border=\"1\" class=\"dataframe\">\n",
              "  <thead>\n",
              "    <tr style=\"text-align: right;\">\n",
              "      <th></th>\n",
              "      <th>col</th>\n",
              "      <th>distinct</th>\n",
              "      <th>count</th>\n",
              "    </tr>\n",
              "  </thead>\n",
              "  <tbody>\n",
              "    <tr>\n",
              "      <th>0</th>\n",
              "      <td>client_id</td>\n",
              "      <td>56211</td>\n",
              "      <td>89545</td>\n",
              "    </tr>\n",
              "    <tr>\n",
              "      <th>1</th>\n",
              "      <td>invoice_id</td>\n",
              "      <td>85681</td>\n",
              "      <td>89545</td>\n",
              "    </tr>\n",
              "    <tr>\n",
              "      <th>2</th>\n",
              "      <td>invoice_item_id</td>\n",
              "      <td>88890</td>\n",
              "      <td>89545</td>\n",
              "    </tr>\n",
              "    <tr>\n",
              "      <th>3</th>\n",
              "      <td>invoice_status</td>\n",
              "      <td>4</td>\n",
              "      <td>89545</td>\n",
              "    </tr>\n",
              "    <tr>\n",
              "      <th>4</th>\n",
              "      <td>service_status</td>\n",
              "      <td>5</td>\n",
              "      <td>89545</td>\n",
              "    </tr>\n",
              "    <tr>\n",
              "      <th>5</th>\n",
              "      <td>product_id</td>\n",
              "      <td>14</td>\n",
              "      <td>89545</td>\n",
              "    </tr>\n",
              "    <tr>\n",
              "      <th>6</th>\n",
              "      <td>monthly_price_usd</td>\n",
              "      <td>14</td>\n",
              "      <td>89545</td>\n",
              "    </tr>\n",
              "    <tr>\n",
              "      <th>7</th>\n",
              "      <td>discount</td>\n",
              "      <td>224</td>\n",
              "      <td>89545</td>\n",
              "    </tr>\n",
              "    <tr>\n",
              "      <th>8</th>\n",
              "      <td>service_period</td>\n",
              "      <td>6</td>\n",
              "      <td>89545</td>\n",
              "    </tr>\n",
              "    <tr>\n",
              "      <th>9</th>\n",
              "      <td>client_task</td>\n",
              "      <td>2</td>\n",
              "      <td>89545</td>\n",
              "    </tr>\n",
              "    <tr>\n",
              "      <th>10</th>\n",
              "      <td>invoice_created_at</td>\n",
              "      <td>85060</td>\n",
              "      <td>89545</td>\n",
              "    </tr>\n",
              "    <tr>\n",
              "      <th>11</th>\n",
              "      <td>invoice_paid_at</td>\n",
              "      <td>50163</td>\n",
              "      <td>53755</td>\n",
              "    </tr>\n",
              "    <tr>\n",
              "      <th>12</th>\n",
              "      <td>service_cancelled_at</td>\n",
              "      <td>18759</td>\n",
              "      <td>21756</td>\n",
              "    </tr>\n",
              "    <tr>\n",
              "      <th>13</th>\n",
              "      <td>monthly_period</td>\n",
              "      <td>6</td>\n",
              "      <td>89545</td>\n",
              "    </tr>\n",
              "    <tr>\n",
              "      <th>14</th>\n",
              "      <td>total_price</td>\n",
              "      <td>66</td>\n",
              "      <td>89545</td>\n",
              "    </tr>\n",
              "    <tr>\n",
              "      <th>15</th>\n",
              "      <td>discounted_price</td>\n",
              "      <td>828</td>\n",
              "      <td>89545</td>\n",
              "    </tr>\n",
              "  </tbody>\n",
              "</table>\n",
              "</div>"
            ],
            "text/plain": [
              "                     col  distinct  count\n",
              "0              client_id     56211  89545\n",
              "1             invoice_id     85681  89545\n",
              "2        invoice_item_id     88890  89545\n",
              "3         invoice_status         4  89545\n",
              "4         service_status         5  89545\n",
              "5             product_id        14  89545\n",
              "6      monthly_price_usd        14  89545\n",
              "7               discount       224  89545\n",
              "8         service_period         6  89545\n",
              "9            client_task         2  89545\n",
              "10    invoice_created_at     85060  89545\n",
              "11       invoice_paid_at     50163  53755\n",
              "12  service_cancelled_at     18759  21756\n",
              "13        monthly_period         6  89545\n",
              "14           total_price        66  89545\n",
              "15      discounted_price       828  89545"
            ]
          },
          "metadata": {
            "tags": []
          },
          "execution_count": 4
        }
      ]
    },
    {
      "cell_type": "code",
      "metadata": {
        "id": "8HaVBdBwUEFH",
        "colab_type": "code",
        "colab": {
          "base_uri": "https://localhost:8080/",
          "height": 408
        },
        "outputId": "fbcae95c-743e-4307-fe71-6242a07150cb"
      },
      "source": [
        "# Exploring the Original Data Type of Dataframe\n",
        "SalesData.info()"
      ],
      "execution_count": 5,
      "outputs": [
        {
          "output_type": "stream",
          "text": [
            "<class 'pandas.core.frame.DataFrame'>\n",
            "RangeIndex: 89545 entries, 0 to 89544\n",
            "Data columns (total 16 columns):\n",
            " #   Column                Non-Null Count  Dtype  \n",
            "---  ------                --------------  -----  \n",
            " 0   client_id             89545 non-null  int64  \n",
            " 1   invoice_id            89545 non-null  float64\n",
            " 2   invoice_item_id       89545 non-null  int64  \n",
            " 3   invoice_status        89545 non-null  object \n",
            " 4   service_status        89545 non-null  object \n",
            " 5   product_id            89545 non-null  int64  \n",
            " 6   monthly_price_usd     89545 non-null  int64  \n",
            " 7   discount              89545 non-null  float64\n",
            " 8   service_period        89545 non-null  object \n",
            " 9   client_task           89545 non-null  object \n",
            " 10  invoice_created_at    89545 non-null  object \n",
            " 11  invoice_paid_at       53755 non-null  object \n",
            " 12  service_cancelled_at  21756 non-null  object \n",
            " 13  monthly_period        89545 non-null  int64  \n",
            " 14  total_price           89545 non-null  int64  \n",
            " 15  discounted_price      89545 non-null  float64\n",
            "dtypes: float64(3), int64(6), object(7)\n",
            "memory usage: 10.9+ MB\n"
          ],
          "name": "stdout"
        }
      ]
    },
    {
      "cell_type": "code",
      "metadata": {
        "id": "l6UVkrP9XsyY",
        "colab_type": "code",
        "colab": {
          "base_uri": "https://localhost:8080/",
          "height": 408
        },
        "outputId": "23d3c86e-94c1-4163-ce81-a2b72a44321c"
      },
      "source": [
        "# Set the Right Data Type for the Wrong One\n",
        "SalesData['client_id'] = SalesData['client_id'].astype('object')\n",
        "SalesData['invoice_id'] = SalesData['invoice_id'].astype('object')\n",
        "SalesData['invoice_item_id'] = SalesData['invoice_item_id'].astype('object')\n",
        "SalesData['product_id'] = SalesData['product_id'].astype('object')\n",
        "SalesData['monthly_price_usd'] = SalesData['monthly_price_usd'].astype('float64')\n",
        "SalesData[\"invoice_created_at\"] = pd.to_datetime(SalesData[\"invoice_created_at\"], format=\"%Y-%m-%dT%H:%M:%SZ\")\n",
        "SalesData[\"invoice_paid_at\"] = pd.to_datetime(SalesData[\"invoice_paid_at\"], format=\"%Y-%m-%dT%H:%M:%SZ\")\n",
        "SalesData[\"service_cancelled_at\"] = pd.to_datetime(SalesData[\"service_cancelled_at\"], format=\"%Y-%m-%dT%H:%M:%SZ\")\n",
        "SalesData['total_price'] = SalesData['total_price'].astype('float64')\n",
        "SalesData.info()"
      ],
      "execution_count": 6,
      "outputs": [
        {
          "output_type": "stream",
          "text": [
            "<class 'pandas.core.frame.DataFrame'>\n",
            "RangeIndex: 89545 entries, 0 to 89544\n",
            "Data columns (total 16 columns):\n",
            " #   Column                Non-Null Count  Dtype         \n",
            "---  ------                --------------  -----         \n",
            " 0   client_id             89545 non-null  object        \n",
            " 1   invoice_id            89545 non-null  object        \n",
            " 2   invoice_item_id       89545 non-null  object        \n",
            " 3   invoice_status        89545 non-null  object        \n",
            " 4   service_status        89545 non-null  object        \n",
            " 5   product_id            89545 non-null  object        \n",
            " 6   monthly_price_usd     89545 non-null  float64       \n",
            " 7   discount              89545 non-null  float64       \n",
            " 8   service_period        89545 non-null  object        \n",
            " 9   client_task           89545 non-null  object        \n",
            " 10  invoice_created_at    89545 non-null  datetime64[ns]\n",
            " 11  invoice_paid_at       53755 non-null  datetime64[ns]\n",
            " 12  service_cancelled_at  21756 non-null  datetime64[ns]\n",
            " 13  monthly_period        89545 non-null  int64         \n",
            " 14  total_price           89545 non-null  float64       \n",
            " 15  discounted_price      89545 non-null  float64       \n",
            "dtypes: datetime64[ns](3), float64(4), int64(1), object(8)\n",
            "memory usage: 10.9+ MB\n"
          ],
          "name": "stdout"
        }
      ]
    },
    {
      "cell_type": "markdown",
      "metadata": {
        "id": "KnVIniClWAyG",
        "colab_type": "text"
      },
      "source": [
        "# ***Question A***\n",
        "Imagine you are working as a data analyst working at company \"X\". You were asked to make an annual report by the product manager. In order to do that, you need data which you might already have right now. However, you were informed by the data engineer that there was a problem recently in the company's database. As a result, some records are believed to be duplicated and this would create a huge amount of error in your report.  As a data analyst, it is also part of your job to do some data cleaning. Therefore, separate all the duplicated records, count how many of them, and remove them completely from your data so that you can feel confident about the validity of your analysis."
      ]
    },
    {
      "cell_type": "code",
      "metadata": {
        "id": "gE0WjngGA8Mi",
        "colab_type": "code",
        "colab": {
          "base_uri": "https://localhost:8080/",
          "height": 309
        },
        "outputId": "ba745ae0-1b33-41fb-c284-e431bef4fa87"
      },
      "source": [
        "# Get to know the Duplicate: Based on invoice_id & product_id that have same value\n",
        "SalesDataDuplicate = SalesData[SalesData.duplicated(['invoice_id', 'product_id'])]\n",
        "SalesDataDuplicate.tail()"
      ],
      "execution_count": 7,
      "outputs": [
        {
          "output_type": "execute_result",
          "data": {
            "text/html": [
              "<div>\n",
              "<style scoped>\n",
              "    .dataframe tbody tr th:only-of-type {\n",
              "        vertical-align: middle;\n",
              "    }\n",
              "\n",
              "    .dataframe tbody tr th {\n",
              "        vertical-align: top;\n",
              "    }\n",
              "\n",
              "    .dataframe thead th {\n",
              "        text-align: right;\n",
              "    }\n",
              "</style>\n",
              "<table border=\"1\" class=\"dataframe\">\n",
              "  <thead>\n",
              "    <tr style=\"text-align: right;\">\n",
              "      <th></th>\n",
              "      <th>client_id</th>\n",
              "      <th>invoice_id</th>\n",
              "      <th>invoice_item_id</th>\n",
              "      <th>invoice_status</th>\n",
              "      <th>service_status</th>\n",
              "      <th>product_id</th>\n",
              "      <th>monthly_price_usd</th>\n",
              "      <th>discount</th>\n",
              "      <th>service_period</th>\n",
              "      <th>client_task</th>\n",
              "      <th>invoice_created_at</th>\n",
              "      <th>invoice_paid_at</th>\n",
              "      <th>service_cancelled_at</th>\n",
              "      <th>monthly_period</th>\n",
              "      <th>total_price</th>\n",
              "      <th>discounted_price</th>\n",
              "    </tr>\n",
              "  </thead>\n",
              "  <tbody>\n",
              "    <tr>\n",
              "      <th>89540</th>\n",
              "      <td>259942</td>\n",
              "      <td>881975</td>\n",
              "      <td>884574</td>\n",
              "      <td>Paid</td>\n",
              "      <td>Active</td>\n",
              "      <td>3</td>\n",
              "      <td>13.0</td>\n",
              "      <td>0.50</td>\n",
              "      <td>1Y</td>\n",
              "      <td>Activate</td>\n",
              "      <td>2019-12-16 06:14:36</td>\n",
              "      <td>2019-12-18 06:21:09</td>\n",
              "      <td>NaT</td>\n",
              "      <td>12</td>\n",
              "      <td>156.0</td>\n",
              "      <td>78.00</td>\n",
              "    </tr>\n",
              "    <tr>\n",
              "      <th>89541</th>\n",
              "      <td>84615</td>\n",
              "      <td>882013</td>\n",
              "      <td>1070069</td>\n",
              "      <td>Paid</td>\n",
              "      <td>Active</td>\n",
              "      <td>3</td>\n",
              "      <td>13.0</td>\n",
              "      <td>0.50</td>\n",
              "      <td>1Y</td>\n",
              "      <td>Renew</td>\n",
              "      <td>2019-12-16 07:00:45</td>\n",
              "      <td>2019-12-20 03:20:26</td>\n",
              "      <td>NaT</td>\n",
              "      <td>12</td>\n",
              "      <td>156.0</td>\n",
              "      <td>78.00</td>\n",
              "    </tr>\n",
              "    <tr>\n",
              "      <th>89542</th>\n",
              "      <td>129895</td>\n",
              "      <td>882042</td>\n",
              "      <td>1155193</td>\n",
              "      <td>Paid</td>\n",
              "      <td>Active</td>\n",
              "      <td>4</td>\n",
              "      <td>18.0</td>\n",
              "      <td>0.37</td>\n",
              "      <td>1Y</td>\n",
              "      <td>Renew</td>\n",
              "      <td>2019-12-16 07:24:39</td>\n",
              "      <td>2019-12-16 10:04:59</td>\n",
              "      <td>NaT</td>\n",
              "      <td>12</td>\n",
              "      <td>216.0</td>\n",
              "      <td>136.08</td>\n",
              "    </tr>\n",
              "    <tr>\n",
              "      <th>89543</th>\n",
              "      <td>259997</td>\n",
              "      <td>882147</td>\n",
              "      <td>952162</td>\n",
              "      <td>Paid</td>\n",
              "      <td>Active</td>\n",
              "      <td>3</td>\n",
              "      <td>13.0</td>\n",
              "      <td>0.75</td>\n",
              "      <td>3Y</td>\n",
              "      <td>Activate</td>\n",
              "      <td>2019-12-16 09:17:21</td>\n",
              "      <td>2019-12-16 09:20:06</td>\n",
              "      <td>NaT</td>\n",
              "      <td>36</td>\n",
              "      <td>468.0</td>\n",
              "      <td>117.00</td>\n",
              "    </tr>\n",
              "    <tr>\n",
              "      <th>89544</th>\n",
              "      <td>251782</td>\n",
              "      <td>882187</td>\n",
              "      <td>920682</td>\n",
              "      <td>Paid</td>\n",
              "      <td>Active</td>\n",
              "      <td>3</td>\n",
              "      <td>13.0</td>\n",
              "      <td>0.78</td>\n",
              "      <td>3Y</td>\n",
              "      <td>Activate</td>\n",
              "      <td>2019-12-16 10:23:09</td>\n",
              "      <td>2019-12-16 10:26:42</td>\n",
              "      <td>NaT</td>\n",
              "      <td>36</td>\n",
              "      <td>468.0</td>\n",
              "      <td>102.96</td>\n",
              "    </tr>\n",
              "  </tbody>\n",
              "</table>\n",
              "</div>"
            ],
            "text/plain": [
              "      client_id invoice_id  ... total_price discounted_price\n",
              "89540    259942     881975  ...       156.0            78.00\n",
              "89541     84615     882013  ...       156.0            78.00\n",
              "89542    129895     882042  ...       216.0           136.08\n",
              "89543    259997     882147  ...       468.0           117.00\n",
              "89544    251782     882187  ...       468.0           102.96\n",
              "\n",
              "[5 rows x 16 columns]"
            ]
          },
          "metadata": {
            "tags": []
          },
          "execution_count": 7
        }
      ]
    },
    {
      "cell_type": "code",
      "metadata": {
        "id": "AI00nU5JKZc7",
        "colab_type": "code",
        "colab": {
          "base_uri": "https://localhost:8080/",
          "height": 261
        },
        "outputId": "77155c09-ee72-4842-d856-cac8d7c49903"
      },
      "source": [
        "# Sampling to getting to know the Duplicate, Except First Row\n",
        "SalesDataDuplicate.loc[SalesDataDuplicate['invoice_id'] == 879438.0] #3\n",
        "SalesData.loc[SalesData['invoice_id'] == 879438.0] #4"
      ],
      "execution_count": 8,
      "outputs": [
        {
          "output_type": "execute_result",
          "data": {
            "text/html": [
              "<div>\n",
              "<style scoped>\n",
              "    .dataframe tbody tr th:only-of-type {\n",
              "        vertical-align: middle;\n",
              "    }\n",
              "\n",
              "    .dataframe tbody tr th {\n",
              "        vertical-align: top;\n",
              "    }\n",
              "\n",
              "    .dataframe thead th {\n",
              "        text-align: right;\n",
              "    }\n",
              "</style>\n",
              "<table border=\"1\" class=\"dataframe\">\n",
              "  <thead>\n",
              "    <tr style=\"text-align: right;\">\n",
              "      <th></th>\n",
              "      <th>client_id</th>\n",
              "      <th>invoice_id</th>\n",
              "      <th>invoice_item_id</th>\n",
              "      <th>invoice_status</th>\n",
              "      <th>service_status</th>\n",
              "      <th>product_id</th>\n",
              "      <th>monthly_price_usd</th>\n",
              "      <th>discount</th>\n",
              "      <th>service_period</th>\n",
              "      <th>client_task</th>\n",
              "      <th>invoice_created_at</th>\n",
              "      <th>invoice_paid_at</th>\n",
              "      <th>service_cancelled_at</th>\n",
              "      <th>monthly_period</th>\n",
              "      <th>total_price</th>\n",
              "      <th>discounted_price</th>\n",
              "    </tr>\n",
              "  </thead>\n",
              "  <tbody>\n",
              "    <tr>\n",
              "      <th>128</th>\n",
              "      <td>247837</td>\n",
              "      <td>879438</td>\n",
              "      <td>960520</td>\n",
              "      <td>Paid</td>\n",
              "      <td>Active</td>\n",
              "      <td>3</td>\n",
              "      <td>13.0</td>\n",
              "      <td>0.78</td>\n",
              "      <td>3Y</td>\n",
              "      <td>Activate</td>\n",
              "      <td>2019-12-13 11:55:39</td>\n",
              "      <td>2019-12-13 11:58:23</td>\n",
              "      <td>NaT</td>\n",
              "      <td>36</td>\n",
              "      <td>468.0</td>\n",
              "      <td>102.96</td>\n",
              "    </tr>\n",
              "    <tr>\n",
              "      <th>515</th>\n",
              "      <td>247837</td>\n",
              "      <td>879438</td>\n",
              "      <td>988495</td>\n",
              "      <td>Paid</td>\n",
              "      <td>Cancelled</td>\n",
              "      <td>3</td>\n",
              "      <td>13.0</td>\n",
              "      <td>0.75</td>\n",
              "      <td>3Y</td>\n",
              "      <td>Activate</td>\n",
              "      <td>2019-12-13 11:55:39</td>\n",
              "      <td>2019-12-13 11:58:23</td>\n",
              "      <td>NaT</td>\n",
              "      <td>36</td>\n",
              "      <td>468.0</td>\n",
              "      <td>117.00</td>\n",
              "    </tr>\n",
              "    <tr>\n",
              "      <th>51552</th>\n",
              "      <td>247837</td>\n",
              "      <td>879438</td>\n",
              "      <td>1229821</td>\n",
              "      <td>Paid</td>\n",
              "      <td>Active</td>\n",
              "      <td>3</td>\n",
              "      <td>13.0</td>\n",
              "      <td>0.78</td>\n",
              "      <td>3Y</td>\n",
              "      <td>Activate</td>\n",
              "      <td>2019-12-13 11:55:39</td>\n",
              "      <td>2019-12-13 11:58:23</td>\n",
              "      <td>NaT</td>\n",
              "      <td>36</td>\n",
              "      <td>468.0</td>\n",
              "      <td>102.96</td>\n",
              "    </tr>\n",
              "    <tr>\n",
              "      <th>51553</th>\n",
              "      <td>247837</td>\n",
              "      <td>879438</td>\n",
              "      <td>1229822</td>\n",
              "      <td>Paid</td>\n",
              "      <td>Cancelled</td>\n",
              "      <td>3</td>\n",
              "      <td>13.0</td>\n",
              "      <td>0.75</td>\n",
              "      <td>3Y</td>\n",
              "      <td>Activate</td>\n",
              "      <td>2019-12-13 11:55:39</td>\n",
              "      <td>2019-12-13 11:58:23</td>\n",
              "      <td>NaT</td>\n",
              "      <td>36</td>\n",
              "      <td>468.0</td>\n",
              "      <td>117.00</td>\n",
              "    </tr>\n",
              "  </tbody>\n",
              "</table>\n",
              "</div>"
            ],
            "text/plain": [
              "      client_id invoice_id  ... total_price discounted_price\n",
              "128      247837     879438  ...       468.0           102.96\n",
              "515      247837     879438  ...       468.0           117.00\n",
              "51552    247837     879438  ...       468.0           102.96\n",
              "51553    247837     879438  ...       468.0           117.00\n",
              "\n",
              "[4 rows x 16 columns]"
            ]
          },
          "metadata": {
            "tags": []
          },
          "execution_count": 8
        }
      ]
    },
    {
      "cell_type": "code",
      "metadata": {
        "id": "W4vTzlyPL-jg",
        "colab_type": "code",
        "colab": {
          "base_uri": "https://localhost:8080/",
          "height": 224
        },
        "outputId": "a072fe66-1318-4328-b13e-39ed4d4fd587"
      },
      "source": [
        "# Start Cleaning\n",
        "SalesDataClean = SalesData.drop(list(list(SalesDataDuplicate.index)))\n",
        "SalesDataClean.tail()"
      ],
      "execution_count": 9,
      "outputs": [
        {
          "output_type": "execute_result",
          "data": {
            "text/html": [
              "<div>\n",
              "<style scoped>\n",
              "    .dataframe tbody tr th:only-of-type {\n",
              "        vertical-align: middle;\n",
              "    }\n",
              "\n",
              "    .dataframe tbody tr th {\n",
              "        vertical-align: top;\n",
              "    }\n",
              "\n",
              "    .dataframe thead th {\n",
              "        text-align: right;\n",
              "    }\n",
              "</style>\n",
              "<table border=\"1\" class=\"dataframe\">\n",
              "  <thead>\n",
              "    <tr style=\"text-align: right;\">\n",
              "      <th></th>\n",
              "      <th>client_id</th>\n",
              "      <th>invoice_id</th>\n",
              "      <th>invoice_item_id</th>\n",
              "      <th>invoice_status</th>\n",
              "      <th>service_status</th>\n",
              "      <th>product_id</th>\n",
              "      <th>monthly_price_usd</th>\n",
              "      <th>discount</th>\n",
              "      <th>service_period</th>\n",
              "      <th>client_task</th>\n",
              "      <th>invoice_created_at</th>\n",
              "      <th>invoice_paid_at</th>\n",
              "      <th>service_cancelled_at</th>\n",
              "      <th>monthly_period</th>\n",
              "      <th>total_price</th>\n",
              "      <th>discounted_price</th>\n",
              "    </tr>\n",
              "  </thead>\n",
              "  <tbody>\n",
              "    <tr>\n",
              "      <th>88217</th>\n",
              "      <td>167962</td>\n",
              "      <td>882294</td>\n",
              "      <td>1234042</td>\n",
              "      <td>Unpaid</td>\n",
              "      <td>Pending Setup</td>\n",
              "      <td>1</td>\n",
              "      <td>6.0</td>\n",
              "      <td>0.29</td>\n",
              "      <td>1Y</td>\n",
              "      <td>Activate</td>\n",
              "      <td>2019-12-16 15:50:32</td>\n",
              "      <td>NaT</td>\n",
              "      <td>NaT</td>\n",
              "      <td>12</td>\n",
              "      <td>72.0</td>\n",
              "      <td>51.12</td>\n",
              "    </tr>\n",
              "    <tr>\n",
              "      <th>88218</th>\n",
              "      <td>154829</td>\n",
              "      <td>882303</td>\n",
              "      <td>1234057</td>\n",
              "      <td>Unpaid</td>\n",
              "      <td>Pending Setup</td>\n",
              "      <td>4</td>\n",
              "      <td>18.0</td>\n",
              "      <td>0.42</td>\n",
              "      <td>1Y</td>\n",
              "      <td>Activate</td>\n",
              "      <td>2019-12-16 16:17:52</td>\n",
              "      <td>NaT</td>\n",
              "      <td>NaT</td>\n",
              "      <td>12</td>\n",
              "      <td>216.0</td>\n",
              "      <td>125.28</td>\n",
              "    </tr>\n",
              "    <tr>\n",
              "      <th>88219</th>\n",
              "      <td>260103</td>\n",
              "      <td>882308</td>\n",
              "      <td>1234065</td>\n",
              "      <td>Unpaid</td>\n",
              "      <td>Pending Setup</td>\n",
              "      <td>1</td>\n",
              "      <td>6.0</td>\n",
              "      <td>0.32</td>\n",
              "      <td>1Y</td>\n",
              "      <td>Activate</td>\n",
              "      <td>2019-12-16 16:30:42</td>\n",
              "      <td>NaT</td>\n",
              "      <td>NaT</td>\n",
              "      <td>12</td>\n",
              "      <td>72.0</td>\n",
              "      <td>48.96</td>\n",
              "    </tr>\n",
              "    <tr>\n",
              "      <th>88220</th>\n",
              "      <td>123628</td>\n",
              "      <td>882310</td>\n",
              "      <td>1234067</td>\n",
              "      <td>Unpaid</td>\n",
              "      <td>Active</td>\n",
              "      <td>2</td>\n",
              "      <td>9.0</td>\n",
              "      <td>0.31</td>\n",
              "      <td>1Y</td>\n",
              "      <td>Activate</td>\n",
              "      <td>2019-12-16 16:36:42</td>\n",
              "      <td>NaT</td>\n",
              "      <td>NaT</td>\n",
              "      <td>12</td>\n",
              "      <td>108.0</td>\n",
              "      <td>74.52</td>\n",
              "    </tr>\n",
              "    <tr>\n",
              "      <th>88221</th>\n",
              "      <td>167962</td>\n",
              "      <td>882312</td>\n",
              "      <td>1234070</td>\n",
              "      <td>Unpaid</td>\n",
              "      <td>Pending Setup</td>\n",
              "      <td>1</td>\n",
              "      <td>6.0</td>\n",
              "      <td>0.29</td>\n",
              "      <td>1Y</td>\n",
              "      <td>Activate</td>\n",
              "      <td>2019-12-16 16:42:36</td>\n",
              "      <td>NaT</td>\n",
              "      <td>NaT</td>\n",
              "      <td>12</td>\n",
              "      <td>72.0</td>\n",
              "      <td>51.12</td>\n",
              "    </tr>\n",
              "  </tbody>\n",
              "</table>\n",
              "</div>"
            ],
            "text/plain": [
              "      client_id invoice_id  ... total_price discounted_price\n",
              "88217    167962     882294  ...        72.0            51.12\n",
              "88218    154829     882303  ...       216.0           125.28\n",
              "88219    260103     882308  ...        72.0            48.96\n",
              "88220    123628     882310  ...       108.0            74.52\n",
              "88221    167962     882312  ...        72.0            51.12\n",
              "\n",
              "[5 rows x 16 columns]"
            ]
          },
          "metadata": {
            "tags": []
          },
          "execution_count": 9
        }
      ]
    },
    {
      "cell_type": "code",
      "metadata": {
        "id": "RX0NqavF2EOu",
        "colab_type": "code",
        "colab": {
          "base_uri": "https://localhost:8080/",
          "height": 85
        },
        "outputId": "7a963bc1-b74e-4164-bd94-67af56b7180a"
      },
      "source": [
        "# Conclusion in Number\n",
        "print(\"So, \\nThe number of Records in Raw Sales Data: \" + str(len(SalesData))\n",
        "      + \"\\nThe number of Records in Duplicated Sales Data: \" + str(len(SalesDataDuplicate))\n",
        "      + \"\\nThe number of Records in Cleaned Sales Data: \" + str(len(SalesDataClean)))"
      ],
      "execution_count": 10,
      "outputs": [
        {
          "output_type": "stream",
          "text": [
            "So, \n",
            "The number of Records in Raw Sales Data: 89545\n",
            "The number of Records in Duplicated Sales Data: 3718\n",
            "The number of Records in Cleaned Sales Data: 85827\n"
          ],
          "name": "stdout"
        }
      ]
    },
    {
      "cell_type": "markdown",
      "metadata": {
        "id": "XfNoatw4WOmd",
        "colab_type": "text"
      },
      "source": [
        "# ***Question B***\n",
        "What's the total number of sales along with the total revenue shared from each product? <br> Arrange the result by the total revenue in descending order."
      ]
    },
    {
      "cell_type": "code",
      "metadata": {
        "id": "eRnP5rWHWPD3",
        "colab_type": "code",
        "colab": {
          "base_uri": "https://localhost:8080/",
          "height": 51
        },
        "outputId": "3e530b23-2bf5-4850-c59b-d6e313785a6e"
      },
      "source": [
        "# Status Exploration\n",
        "print(SalesData.invoice_status.unique())\n",
        "print(SalesData.service_status.unique())"
      ],
      "execution_count": 11,
      "outputs": [
        {
          "output_type": "stream",
          "text": [
            "['Paid' 'Refunded' 'Cancelled' 'Unpaid']\n",
            "['Active' 'Suspended' 'Cancelled' 'Failed Setup' 'Pending Setup']\n"
          ],
          "name": "stdout"
        }
      ]
    },
    {
      "cell_type": "markdown",
      "metadata": {
        "id": "uZqlTdX_SjF1",
        "colab_type": "text"
      },
      "source": [
        "After Cleaning the Duplicate in Question A.\n",
        "For Question B up to Question F we need to eliminate All the Records with:\n",
        "1. Invoice_status 'Refunded', 'Cancelled', 'Unpaid'. Because we can't do sales analysis if the customer itself has not bought a Product\n",
        "2. Invoice_paid_at is NULL, Because paid supposed to be have its datetime.\n",
        "3. Rows with invoice_paid_at before invoice_created_at, Because doesn't make sense."
      ]
    },
    {
      "cell_type": "code",
      "metadata": {
        "id": "oJcBVancR6K5",
        "colab_type": "code",
        "colab": {
          "base_uri": "https://localhost:8080/",
          "height": 309
        },
        "outputId": "5a0389d9-d226-40ae-e44c-c5bc3f043a40"
      },
      "source": [
        "# Start eliminating those who are not in 'invoice_paid_at' invoice_status AND have 'null' paid_at\n",
        "SalesDataCleanPaid = SalesDataClean.loc[SalesDataClean['invoice_status'] == 'Paid'] #Select Only Paid\n",
        "SalesDataCleanPaid = SalesDataCleanPaid.dropna(axis=0, subset=['invoice_paid_at']) #Drop Null invoice_paid_at\n",
        "SalesDataCleanPaid = SalesDataCleanPaid[SalesDataCleanPaid['invoice_created_at'] < SalesDataCleanPaid['invoice_paid_at']]\n",
        "SalesDataCleanPaid.tail()"
      ],
      "execution_count": 12,
      "outputs": [
        {
          "output_type": "execute_result",
          "data": {
            "text/html": [
              "<div>\n",
              "<style scoped>\n",
              "    .dataframe tbody tr th:only-of-type {\n",
              "        vertical-align: middle;\n",
              "    }\n",
              "\n",
              "    .dataframe tbody tr th {\n",
              "        vertical-align: top;\n",
              "    }\n",
              "\n",
              "    .dataframe thead th {\n",
              "        text-align: right;\n",
              "    }\n",
              "</style>\n",
              "<table border=\"1\" class=\"dataframe\">\n",
              "  <thead>\n",
              "    <tr style=\"text-align: right;\">\n",
              "      <th></th>\n",
              "      <th>client_id</th>\n",
              "      <th>invoice_id</th>\n",
              "      <th>invoice_item_id</th>\n",
              "      <th>invoice_status</th>\n",
              "      <th>service_status</th>\n",
              "      <th>product_id</th>\n",
              "      <th>monthly_price_usd</th>\n",
              "      <th>discount</th>\n",
              "      <th>service_period</th>\n",
              "      <th>client_task</th>\n",
              "      <th>invoice_created_at</th>\n",
              "      <th>invoice_paid_at</th>\n",
              "      <th>service_cancelled_at</th>\n",
              "      <th>monthly_period</th>\n",
              "      <th>total_price</th>\n",
              "      <th>discounted_price</th>\n",
              "    </tr>\n",
              "  </thead>\n",
              "  <tbody>\n",
              "    <tr>\n",
              "      <th>52421</th>\n",
              "      <td>238846</td>\n",
              "      <td>861162</td>\n",
              "      <td>1202038</td>\n",
              "      <td>Paid</td>\n",
              "      <td>Active</td>\n",
              "      <td>9</td>\n",
              "      <td>17.0</td>\n",
              "      <td>0.00</td>\n",
              "      <td>1M</td>\n",
              "      <td>Renew</td>\n",
              "      <td>2019-11-26 17:00:41</td>\n",
              "      <td>2019-12-31 01:03:39</td>\n",
              "      <td>NaT</td>\n",
              "      <td>1</td>\n",
              "      <td>17.0</td>\n",
              "      <td>17.00</td>\n",
              "    </tr>\n",
              "    <tr>\n",
              "      <th>52423</th>\n",
              "      <td>74461</td>\n",
              "      <td>876940</td>\n",
              "      <td>1225832</td>\n",
              "      <td>Paid</td>\n",
              "      <td>Active</td>\n",
              "      <td>3</td>\n",
              "      <td>13.0</td>\n",
              "      <td>0.50</td>\n",
              "      <td>3Y</td>\n",
              "      <td>Renew</td>\n",
              "      <td>2019-12-11 00:00:41</td>\n",
              "      <td>2019-12-31 02:57:17</td>\n",
              "      <td>NaT</td>\n",
              "      <td>36</td>\n",
              "      <td>468.0</td>\n",
              "      <td>234.00</td>\n",
              "    </tr>\n",
              "    <tr>\n",
              "      <th>52426</th>\n",
              "      <td>15425</td>\n",
              "      <td>880099</td>\n",
              "      <td>1230653</td>\n",
              "      <td>Paid</td>\n",
              "      <td>Active</td>\n",
              "      <td>3</td>\n",
              "      <td>13.0</td>\n",
              "      <td>0.50</td>\n",
              "      <td>1Y</td>\n",
              "      <td>Renew</td>\n",
              "      <td>2019-12-13 22:12:57</td>\n",
              "      <td>2019-12-31 09:03:16</td>\n",
              "      <td>NaT</td>\n",
              "      <td>12</td>\n",
              "      <td>156.0</td>\n",
              "      <td>78.00</td>\n",
              "    </tr>\n",
              "    <tr>\n",
              "      <th>52427</th>\n",
              "      <td>50642</td>\n",
              "      <td>877841</td>\n",
              "      <td>1227281</td>\n",
              "      <td>Paid</td>\n",
              "      <td>Active</td>\n",
              "      <td>3</td>\n",
              "      <td>13.0</td>\n",
              "      <td>0.50</td>\n",
              "      <td>1Y</td>\n",
              "      <td>Renew</td>\n",
              "      <td>2019-12-11 20:24:53</td>\n",
              "      <td>2019-12-31 09:37:55</td>\n",
              "      <td>NaT</td>\n",
              "      <td>12</td>\n",
              "      <td>156.0</td>\n",
              "      <td>78.00</td>\n",
              "    </tr>\n",
              "    <tr>\n",
              "      <th>52429</th>\n",
              "      <td>69925</td>\n",
              "      <td>881656</td>\n",
              "      <td>1232953</td>\n",
              "      <td>Paid</td>\n",
              "      <td>Active</td>\n",
              "      <td>12</td>\n",
              "      <td>49.0</td>\n",
              "      <td>0.11</td>\n",
              "      <td>1M</td>\n",
              "      <td>Renew</td>\n",
              "      <td>2019-12-15 20:12:53</td>\n",
              "      <td>2019-12-31 10:45:22</td>\n",
              "      <td>NaT</td>\n",
              "      <td>1</td>\n",
              "      <td>49.0</td>\n",
              "      <td>43.61</td>\n",
              "    </tr>\n",
              "  </tbody>\n",
              "</table>\n",
              "</div>"
            ],
            "text/plain": [
              "      client_id invoice_id  ... total_price discounted_price\n",
              "52421    238846     861162  ...        17.0            17.00\n",
              "52423     74461     876940  ...       468.0           234.00\n",
              "52426     15425     880099  ...       156.0            78.00\n",
              "52427     50642     877841  ...       156.0            78.00\n",
              "52429     69925     881656  ...        49.0            43.61\n",
              "\n",
              "[5 rows x 16 columns]"
            ]
          },
          "metadata": {
            "tags": []
          },
          "execution_count": 12
        }
      ]
    },
    {
      "cell_type": "code",
      "metadata": {
        "id": "b_ddBqjSkLQp",
        "colab_type": "code",
        "colab": {
          "base_uri": "https://localhost:8080/",
          "height": 408
        },
        "outputId": "aa24700f-4582-4cba-fab7-d39a9c107641"
      },
      "source": [
        "SalesDataCleanPaid.info()"
      ],
      "execution_count": 13,
      "outputs": [
        {
          "output_type": "stream",
          "text": [
            "<class 'pandas.core.frame.DataFrame'>\n",
            "Int64Index: 49804 entries, 0 to 52429\n",
            "Data columns (total 16 columns):\n",
            " #   Column                Non-Null Count  Dtype         \n",
            "---  ------                --------------  -----         \n",
            " 0   client_id             49804 non-null  object        \n",
            " 1   invoice_id            49804 non-null  object        \n",
            " 2   invoice_item_id       49804 non-null  object        \n",
            " 3   invoice_status        49804 non-null  object        \n",
            " 4   service_status        49804 non-null  object        \n",
            " 5   product_id            49804 non-null  object        \n",
            " 6   monthly_price_usd     49804 non-null  float64       \n",
            " 7   discount              49804 non-null  float64       \n",
            " 8   service_period        49804 non-null  object        \n",
            " 9   client_task           49804 non-null  object        \n",
            " 10  invoice_created_at    49804 non-null  datetime64[ns]\n",
            " 11  invoice_paid_at       49804 non-null  datetime64[ns]\n",
            " 12  service_cancelled_at  2969 non-null   datetime64[ns]\n",
            " 13  monthly_period        49804 non-null  int64         \n",
            " 14  total_price           49804 non-null  float64       \n",
            " 15  discounted_price      49804 non-null  float64       \n",
            "dtypes: datetime64[ns](3), float64(4), int64(1), object(8)\n",
            "memory usage: 6.5+ MB\n"
          ],
          "name": "stdout"
        }
      ]
    },
    {
      "cell_type": "code",
      "metadata": {
        "id": "Eh2MYGQJarev",
        "colab_type": "code",
        "colab": {
          "base_uri": "https://localhost:8080/",
          "height": 483
        },
        "outputId": "06c66c3b-7a42-4773-91ae-e46668df7206"
      },
      "source": [
        "# Start count total number of sales along with the total revenue per Product_ID\n",
        "cntSalesRevenue = SalesDataCleanPaid.groupby('product_id').agg({'invoice_id':'count', 'discounted_price': 'sum'}).reset_index()\n",
        "cntSalesRevenue.columns = ['product_id', 'countSales', 'sumRevenue']\n",
        "cntSalesRevenue = cntSalesRevenue.sort_values('sumRevenue', ascending=False).reset_index(drop=True)\n",
        "cntSalesRevenue.index += 1\n",
        "cntSalesRevenue"
      ],
      "execution_count": 14,
      "outputs": [
        {
          "output_type": "execute_result",
          "data": {
            "text/html": [
              "<div>\n",
              "<style scoped>\n",
              "    .dataframe tbody tr th:only-of-type {\n",
              "        vertical-align: middle;\n",
              "    }\n",
              "\n",
              "    .dataframe tbody tr th {\n",
              "        vertical-align: top;\n",
              "    }\n",
              "\n",
              "    .dataframe thead th {\n",
              "        text-align: right;\n",
              "    }\n",
              "</style>\n",
              "<table border=\"1\" class=\"dataframe\">\n",
              "  <thead>\n",
              "    <tr style=\"text-align: right;\">\n",
              "      <th></th>\n",
              "      <th>product_id</th>\n",
              "      <th>countSales</th>\n",
              "      <th>sumRevenue</th>\n",
              "    </tr>\n",
              "  </thead>\n",
              "  <tbody>\n",
              "    <tr>\n",
              "      <th>1</th>\n",
              "      <td>3</td>\n",
              "      <td>21818</td>\n",
              "      <td>1976580.84</td>\n",
              "    </tr>\n",
              "    <tr>\n",
              "      <th>2</th>\n",
              "      <td>4</td>\n",
              "      <td>6213</td>\n",
              "      <td>855827.64</td>\n",
              "    </tr>\n",
              "    <tr>\n",
              "      <th>3</th>\n",
              "      <td>2</td>\n",
              "      <td>9265</td>\n",
              "      <td>673623.00</td>\n",
              "    </tr>\n",
              "    <tr>\n",
              "      <th>4</th>\n",
              "      <td>1</td>\n",
              "      <td>3627</td>\n",
              "      <td>188203.68</td>\n",
              "    </tr>\n",
              "    <tr>\n",
              "      <th>5</th>\n",
              "      <td>11</td>\n",
              "      <td>1583</td>\n",
              "      <td>186708.21</td>\n",
              "    </tr>\n",
              "    <tr>\n",
              "      <th>6</th>\n",
              "      <td>12</td>\n",
              "      <td>1009</td>\n",
              "      <td>142747.78</td>\n",
              "    </tr>\n",
              "    <tr>\n",
              "      <th>7</th>\n",
              "      <td>7</td>\n",
              "      <td>477</td>\n",
              "      <td>142460.80</td>\n",
              "    </tr>\n",
              "    <tr>\n",
              "      <th>8</th>\n",
              "      <td>14</td>\n",
              "      <td>558</td>\n",
              "      <td>140726.46</td>\n",
              "    </tr>\n",
              "    <tr>\n",
              "      <th>9</th>\n",
              "      <td>10</td>\n",
              "      <td>1302</td>\n",
              "      <td>94813.88</td>\n",
              "    </tr>\n",
              "    <tr>\n",
              "      <th>10</th>\n",
              "      <td>9</td>\n",
              "      <td>2574</td>\n",
              "      <td>92451.27</td>\n",
              "    </tr>\n",
              "    <tr>\n",
              "      <th>11</th>\n",
              "      <td>5</td>\n",
              "      <td>740</td>\n",
              "      <td>67071.84</td>\n",
              "    </tr>\n",
              "    <tr>\n",
              "      <th>12</th>\n",
              "      <td>13</td>\n",
              "      <td>284</td>\n",
              "      <td>53509.40</td>\n",
              "    </tr>\n",
              "    <tr>\n",
              "      <th>13</th>\n",
              "      <td>6</td>\n",
              "      <td>285</td>\n",
              "      <td>33668.84</td>\n",
              "    </tr>\n",
              "    <tr>\n",
              "      <th>14</th>\n",
              "      <td>8</td>\n",
              "      <td>69</td>\n",
              "      <td>14677.88</td>\n",
              "    </tr>\n",
              "  </tbody>\n",
              "</table>\n",
              "</div>"
            ],
            "text/plain": [
              "    product_id  countSales  sumRevenue\n",
              "1            3       21818  1976580.84\n",
              "2            4        6213   855827.64\n",
              "3            2        9265   673623.00\n",
              "4            1        3627   188203.68\n",
              "5           11        1583   186708.21\n",
              "6           12        1009   142747.78\n",
              "7            7         477   142460.80\n",
              "8           14         558   140726.46\n",
              "9           10        1302    94813.88\n",
              "10           9        2574    92451.27\n",
              "11           5         740    67071.84\n",
              "12          13         284    53509.40\n",
              "13           6         285    33668.84\n",
              "14           8          69    14677.88"
            ]
          },
          "metadata": {
            "tags": []
          },
          "execution_count": 14
        }
      ]
    },
    {
      "cell_type": "markdown",
      "metadata": {
        "id": "wMQ32FShWPTD",
        "colab_type": "text"
      },
      "source": [
        "# ***Question C***\n",
        "The company is planning to give free vouchers to its loyal customers at the end of the year. <br> How do you define \"loyal\" in this case and explain why? <br> List 100 customers who are eligible to get free vouchers based on your definition of \"loyal\"."
      ]
    },
    {
      "cell_type": "code",
      "metadata": {
        "id": "hrMsTTdXWPgL",
        "colab_type": "code",
        "colab": {
          "base_uri": "https://localhost:8080/",
          "height": 204
        },
        "outputId": "7fc335b1-92cc-4fae-8767-6c857ed1a59e"
      },
      "source": [
        "# Start with RFM Analaysis. Loyal is always based on Recency, Frequency and Monetary\n",
        "\n",
        "# Beginning of Recency = Set the end of the year, as Requested\n",
        "Latest_Date = dt.datetime(2020,12,31)\n",
        "\n",
        "# Create RFM Modelling scores for each customer\n",
        "RFMScores = SalesDataCleanPaid.groupby('client_id').agg({'invoice_paid_at': lambda x: (Latest_Date - x.max()).days, \n",
        "                                                         'invoice_id': lambda x: len(x), \n",
        "                                                         'discounted_price': lambda x: x.sum()})\n",
        "\n",
        "# Convert Invoice Date into type int\n",
        "RFMScores['invoice_paid_at'] = RFMScores['invoice_paid_at'].astype(int)\n",
        "\n",
        "# Rename column names to Recency, Frequency and Monetary\n",
        "RFMScores.rename(columns={'invoice_paid_at': 'Recency', \n",
        "                         'invoice_id': 'Frequency', \n",
        "                         'discounted_price': 'Monetary'}, inplace=True)\n",
        "\n",
        "RFMScores.reset_index().head()"
      ],
      "execution_count": 15,
      "outputs": [
        {
          "output_type": "execute_result",
          "data": {
            "text/html": [
              "<div>\n",
              "<style scoped>\n",
              "    .dataframe tbody tr th:only-of-type {\n",
              "        vertical-align: middle;\n",
              "    }\n",
              "\n",
              "    .dataframe tbody tr th {\n",
              "        vertical-align: top;\n",
              "    }\n",
              "\n",
              "    .dataframe thead th {\n",
              "        text-align: right;\n",
              "    }\n",
              "</style>\n",
              "<table border=\"1\" class=\"dataframe\">\n",
              "  <thead>\n",
              "    <tr style=\"text-align: right;\">\n",
              "      <th></th>\n",
              "      <th>client_id</th>\n",
              "      <th>Recency</th>\n",
              "      <th>Frequency</th>\n",
              "      <th>Monetary</th>\n",
              "    </tr>\n",
              "  </thead>\n",
              "  <tbody>\n",
              "    <tr>\n",
              "      <th>0</th>\n",
              "      <td>22</td>\n",
              "      <td>617</td>\n",
              "      <td>1</td>\n",
              "      <td>216.00</td>\n",
              "    </tr>\n",
              "    <tr>\n",
              "      <th>1</th>\n",
              "      <td>37</td>\n",
              "      <td>498</td>\n",
              "      <td>1</td>\n",
              "      <td>59.28</td>\n",
              "    </tr>\n",
              "    <tr>\n",
              "      <th>2</th>\n",
              "      <td>39</td>\n",
              "      <td>416</td>\n",
              "      <td>1</td>\n",
              "      <td>78.00</td>\n",
              "    </tr>\n",
              "    <tr>\n",
              "      <th>3</th>\n",
              "      <td>45</td>\n",
              "      <td>684</td>\n",
              "      <td>1</td>\n",
              "      <td>78.00</td>\n",
              "    </tr>\n",
              "    <tr>\n",
              "      <th>4</th>\n",
              "      <td>46</td>\n",
              "      <td>558</td>\n",
              "      <td>1</td>\n",
              "      <td>101.40</td>\n",
              "    </tr>\n",
              "  </tbody>\n",
              "</table>\n",
              "</div>"
            ],
            "text/plain": [
              "   client_id  Recency  Frequency  Monetary\n",
              "0         22      617          1    216.00\n",
              "1         37      498          1     59.28\n",
              "2         39      416          1     78.00\n",
              "3         45      684          1     78.00\n",
              "4         46      558          1    101.40"
            ]
          },
          "metadata": {
            "tags": []
          },
          "execution_count": 15
        }
      ]
    },
    {
      "cell_type": "code",
      "metadata": {
        "id": "YcquBvjAWT3p",
        "colab_type": "code",
        "colab": {
          "base_uri": "https://localhost:8080/",
          "height": 170
        },
        "outputId": "e0359f20-1ef9-4308-d625-9f0beeb21cc0"
      },
      "source": [
        "# Descriptive Statistics (Recency)\n",
        "RFMScores.Recency.describe()"
      ],
      "execution_count": 16,
      "outputs": [
        {
          "output_type": "execute_result",
          "data": {
            "text/plain": [
              "count    35944.000000\n",
              "mean       537.380008\n",
              "std        104.765323\n",
              "min        365.000000\n",
              "25%        446.000000\n",
              "50%        525.000000\n",
              "75%        632.000000\n",
              "max        729.000000\n",
              "Name: Recency, dtype: float64"
            ]
          },
          "metadata": {
            "tags": []
          },
          "execution_count": 16
        }
      ]
    },
    {
      "cell_type": "code",
      "metadata": {
        "id": "SsuLFRSaWZB5",
        "colab_type": "code",
        "colab": {
          "base_uri": "https://localhost:8080/",
          "height": 279
        },
        "outputId": "a2b41085-abed-4f16-9081-484897a0e0b9"
      },
      "source": [
        "# Recency distribution plot\n",
        "x = RFMScores['Recency']\n",
        "ax = sns.distplot(x)"
      ],
      "execution_count": 17,
      "outputs": [
        {
          "output_type": "display_data",
          "data": {
            "image/png": "[encoded data removed]",
            "text/plain": [
              "<Figure size 432x288 with 1 Axes>"
            ]
          },
          "metadata": {
            "tags": [],
            "needs_background": "light"
          }
        }
      ]
    },
    {
      "cell_type": "code",
      "metadata": {
        "id": "Ig0iwMnEWuMb",
        "colab_type": "code",
        "colab": {
          "base_uri": "https://localhost:8080/",
          "height": 170
        },
        "outputId": "cfdb8161-9fde-4b99-a943-b0b0c05be022"
      },
      "source": [
        "# Descriptive Statistics (Frequency)\n",
        "RFMScores.Frequency.describe()"
      ],
      "execution_count": 18,
      "outputs": [
        {
          "output_type": "execute_result",
          "data": {
            "text/plain": [
              "count    35944.0000\n",
              "mean         1.3856\n",
              "std          1.8249\n",
              "min          1.0000\n",
              "25%          1.0000\n",
              "50%          1.0000\n",
              "75%          1.0000\n",
              "max        123.0000\n",
              "Name: Frequency, dtype: float64"
            ]
          },
          "metadata": {
            "tags": []
          },
          "execution_count": 18
        }
      ]
    },
    {
      "cell_type": "code",
      "metadata": {
        "id": "-CLxDMRhWzWc",
        "colab_type": "code",
        "colab": {
          "base_uri": "https://localhost:8080/",
          "height": 279
        },
        "outputId": "0cc72173-e952-42e1-8dc7-961c0d9d631c"
      },
      "source": [
        "# Frequency distribution plot, taking observations which have frequency less than 100\n",
        "import seaborn as sns\n",
        "x = RFMScores.query('Frequency < 100')['Frequency']\n",
        "\n",
        "ax = sns.distplot(x)"
      ],
      "execution_count": 19,
      "outputs": [
        {
          "output_type": "display_data",
          "data": {
            "image/png": "[encoded data removed]",
            "text/plain": [
              "<Figure size 432x288 with 1 Axes>"
            ]
          },
          "metadata": {
            "tags": [],
            "needs_background": "light"
          }
        }
      ]
    },
    {
      "cell_type": "code",
      "metadata": {
        "id": "r3t4JZJMXFVI",
        "colab_type": "code",
        "colab": {
          "base_uri": "https://localhost:8080/",
          "height": 170
        },
        "outputId": "059bbe75-d5a0-4043-86ee-1aae70a773b0"
      },
      "source": [
        "# Descriptive Statistics (Monetary)\n",
        "RFMScores.Monetary.describe()"
      ],
      "execution_count": 20,
      "outputs": [
        {
          "output_type": "execute_result",
          "data": {
            "text/plain": [
              "count    35944.000000\n",
              "mean       129.731569\n",
              "std        482.066243\n",
              "min     -80049.840000\n",
              "25%         74.520000\n",
              "50%         86.400000\n",
              "75%        125.280000\n",
              "max      12842.280000\n",
              "Name: Monetary, dtype: float64"
            ]
          },
          "metadata": {
            "tags": []
          },
          "execution_count": 20
        }
      ]
    },
    {
      "cell_type": "code",
      "metadata": {
        "id": "T13Eol5EXOEG",
        "colab_type": "code",
        "colab": {
          "base_uri": "https://localhost:8080/",
          "height": 279
        },
        "outputId": "62a7e8bd-84de-4c5e-9d6b-a9ec8a0f2e1c"
      },
      "source": [
        "# Monateray distribution plot, taking observations which have monetary value less than 10000\n",
        "x = RFMScores.query('Monetary > 0')['Monetary']\n",
        "ax = sns.distplot(x)"
      ],
      "execution_count": 21,
      "outputs": [
        {
          "output_type": "display_data",
          "data": {
            "image/png": "[encoded data removed]",
            "text/plain": [
              "<Figure size 432x288 with 1 Axes>"
            ]
          },
          "metadata": {
            "tags": [],
            "needs_background": "light"
          }
        }
      ]
    },
    {
      "cell_type": "code",
      "metadata": {
        "id": "GBwynEWbXqFx",
        "colab_type": "code",
        "colab": {
          "base_uri": "https://localhost:8080/",
          "height": 68
        },
        "outputId": "de25574e-9872-4dd5-c96d-3cb87c290b14"
      },
      "source": [
        "# Split into four segments using quantiles\n",
        "quantiles = RFMScores.quantile(q=[0.25,0.5,0.75])\n",
        "quantiles = quantiles.to_dict()\n",
        "quantiles"
      ],
      "execution_count": 22,
      "outputs": [
        {
          "output_type": "execute_result",
          "data": {
            "text/plain": [
              "{'Frequency': {0.25: 1.0, 0.5: 1.0, 0.75: 1.0},\n",
              " 'Monetary': {0.25: 74.52, 0.5: 86.4, 0.75: 125.28},\n",
              " 'Recency': {0.25: 446.0, 0.5: 525.0, 0.75: 632.0}}"
            ]
          },
          "metadata": {
            "tags": []
          },
          "execution_count": 22
        }
      ]
    },
    {
      "cell_type": "code",
      "metadata": {
        "id": "vMqKhAI_XvYI",
        "colab_type": "code",
        "colab": {}
      },
      "source": [
        "# Functions to create R, F and M segments\n",
        "def RScoring(x,p,d):\n",
        "    if x <= d[p][0.25]:\n",
        "        return 1\n",
        "    elif x <= d[p][0.50]:\n",
        "        return 2\n",
        "    elif x <= d[p][0.75]: \n",
        "        return 3\n",
        "    else:\n",
        "        return 4\n",
        "    \n",
        "def FnMScoring(x,p,d):\n",
        "    if x <= d[p][0.25]:\n",
        "        return 4\n",
        "    elif x <= d[p][0.50]:\n",
        "        return 3\n",
        "    elif x <= d[p][0.75]: \n",
        "        return 2\n",
        "    else:\n",
        "        return 1"
      ],
      "execution_count": 23,
      "outputs": []
    },
    {
      "cell_type": "code",
      "metadata": {
        "id": "EhkvUqBNXzcD",
        "colab_type": "code",
        "colab": {
          "base_uri": "https://localhost:8080/",
          "height": 235
        },
        "outputId": "50ec38ea-aa6c-49fd-b1bd-7208b9ae67d0"
      },
      "source": [
        "# Calculate Add R, F and M segment value columns in the existing dataset to show R, F and M segment values\n",
        "RFMScores['R'] = RFMScores['Recency'].apply(RScoring, args=('Recency',quantiles,))\n",
        "RFMScores['F'] = RFMScores['Frequency'].apply(FnMScoring, args=('Frequency',quantiles,))\n",
        "RFMScores['M'] = RFMScores['Monetary'].apply(FnMScoring, args=('Monetary',quantiles,))\n",
        "RFMScores.head()"
      ],
      "execution_count": 24,
      "outputs": [
        {
          "output_type": "execute_result",
          "data": {
            "text/html": [
              "<div>\n",
              "<style scoped>\n",
              "    .dataframe tbody tr th:only-of-type {\n",
              "        vertical-align: middle;\n",
              "    }\n",
              "\n",
              "    .dataframe tbody tr th {\n",
              "        vertical-align: top;\n",
              "    }\n",
              "\n",
              "    .dataframe thead th {\n",
              "        text-align: right;\n",
              "    }\n",
              "</style>\n",
              "<table border=\"1\" class=\"dataframe\">\n",
              "  <thead>\n",
              "    <tr style=\"text-align: right;\">\n",
              "      <th></th>\n",
              "      <th>Recency</th>\n",
              "      <th>Frequency</th>\n",
              "      <th>Monetary</th>\n",
              "      <th>R</th>\n",
              "      <th>F</th>\n",
              "      <th>M</th>\n",
              "    </tr>\n",
              "    <tr>\n",
              "      <th>client_id</th>\n",
              "      <th></th>\n",
              "      <th></th>\n",
              "      <th></th>\n",
              "      <th></th>\n",
              "      <th></th>\n",
              "      <th></th>\n",
              "    </tr>\n",
              "  </thead>\n",
              "  <tbody>\n",
              "    <tr>\n",
              "      <th>22</th>\n",
              "      <td>617</td>\n",
              "      <td>1</td>\n",
              "      <td>216.00</td>\n",
              "      <td>3</td>\n",
              "      <td>4</td>\n",
              "      <td>1</td>\n",
              "    </tr>\n",
              "    <tr>\n",
              "      <th>37</th>\n",
              "      <td>498</td>\n",
              "      <td>1</td>\n",
              "      <td>59.28</td>\n",
              "      <td>2</td>\n",
              "      <td>4</td>\n",
              "      <td>4</td>\n",
              "    </tr>\n",
              "    <tr>\n",
              "      <th>39</th>\n",
              "      <td>416</td>\n",
              "      <td>1</td>\n",
              "      <td>78.00</td>\n",
              "      <td>1</td>\n",
              "      <td>4</td>\n",
              "      <td>3</td>\n",
              "    </tr>\n",
              "    <tr>\n",
              "      <th>45</th>\n",
              "      <td>684</td>\n",
              "      <td>1</td>\n",
              "      <td>78.00</td>\n",
              "      <td>4</td>\n",
              "      <td>4</td>\n",
              "      <td>3</td>\n",
              "    </tr>\n",
              "    <tr>\n",
              "      <th>46</th>\n",
              "      <td>558</td>\n",
              "      <td>1</td>\n",
              "      <td>101.40</td>\n",
              "      <td>3</td>\n",
              "      <td>4</td>\n",
              "      <td>2</td>\n",
              "    </tr>\n",
              "  </tbody>\n",
              "</table>\n",
              "</div>"
            ],
            "text/plain": [
              "           Recency  Frequency  Monetary  R  F  M\n",
              "client_id                                       \n",
              "22             617          1    216.00  3  4  1\n",
              "37             498          1     59.28  2  4  4\n",
              "39             416          1     78.00  1  4  3\n",
              "45             684          1     78.00  4  4  3\n",
              "46             558          1    101.40  3  4  2"
            ]
          },
          "metadata": {
            "tags": []
          },
          "execution_count": 24
        }
      ]
    },
    {
      "cell_type": "code",
      "metadata": {
        "id": "MCy1-f_7X4iN",
        "colab_type": "code",
        "colab": {
          "base_uri": "https://localhost:8080/",
          "height": 235
        },
        "outputId": "04f484da-da0c-4842-933d-c3c748fb620a"
      },
      "source": [
        "# Calculate and Add RFMGroup value column showing combined concatenated score of RFM\n",
        "RFMScores['RFMGroup'] = RFMScores.R.map(str) + RFMScores.F.map(str) + RFMScores.M.map(str)\n",
        "\n",
        "# Calculate and Add RFMScore value column showing total sum of RFMGroup values\n",
        "RFMScores['RFMScore'] = RFMScores[['R', 'F', 'M']].sum(axis = 1)\n",
        "RFMScores.head()"
      ],
      "execution_count": 25,
      "outputs": [
        {
          "output_type": "execute_result",
          "data": {
            "text/html": [
              "<div>\n",
              "<style scoped>\n",
              "    .dataframe tbody tr th:only-of-type {\n",
              "        vertical-align: middle;\n",
              "    }\n",
              "\n",
              "    .dataframe tbody tr th {\n",
              "        vertical-align: top;\n",
              "    }\n",
              "\n",
              "    .dataframe thead th {\n",
              "        text-align: right;\n",
              "    }\n",
              "</style>\n",
              "<table border=\"1\" class=\"dataframe\">\n",
              "  <thead>\n",
              "    <tr style=\"text-align: right;\">\n",
              "      <th></th>\n",
              "      <th>Recency</th>\n",
              "      <th>Frequency</th>\n",
              "      <th>Monetary</th>\n",
              "      <th>R</th>\n",
              "      <th>F</th>\n",
              "      <th>M</th>\n",
              "      <th>RFMGroup</th>\n",
              "      <th>RFMScore</th>\n",
              "    </tr>\n",
              "    <tr>\n",
              "      <th>client_id</th>\n",
              "      <th></th>\n",
              "      <th></th>\n",
              "      <th></th>\n",
              "      <th></th>\n",
              "      <th></th>\n",
              "      <th></th>\n",
              "      <th></th>\n",
              "      <th></th>\n",
              "    </tr>\n",
              "  </thead>\n",
              "  <tbody>\n",
              "    <tr>\n",
              "      <th>22</th>\n",
              "      <td>617</td>\n",
              "      <td>1</td>\n",
              "      <td>216.00</td>\n",
              "      <td>3</td>\n",
              "      <td>4</td>\n",
              "      <td>1</td>\n",
              "      <td>341</td>\n",
              "      <td>8</td>\n",
              "    </tr>\n",
              "    <tr>\n",
              "      <th>37</th>\n",
              "      <td>498</td>\n",
              "      <td>1</td>\n",
              "      <td>59.28</td>\n",
              "      <td>2</td>\n",
              "      <td>4</td>\n",
              "      <td>4</td>\n",
              "      <td>244</td>\n",
              "      <td>10</td>\n",
              "    </tr>\n",
              "    <tr>\n",
              "      <th>39</th>\n",
              "      <td>416</td>\n",
              "      <td>1</td>\n",
              "      <td>78.00</td>\n",
              "      <td>1</td>\n",
              "      <td>4</td>\n",
              "      <td>3</td>\n",
              "      <td>143</td>\n",
              "      <td>8</td>\n",
              "    </tr>\n",
              "    <tr>\n",
              "      <th>45</th>\n",
              "      <td>684</td>\n",
              "      <td>1</td>\n",
              "      <td>78.00</td>\n",
              "      <td>4</td>\n",
              "      <td>4</td>\n",
              "      <td>3</td>\n",
              "      <td>443</td>\n",
              "      <td>11</td>\n",
              "    </tr>\n",
              "    <tr>\n",
              "      <th>46</th>\n",
              "      <td>558</td>\n",
              "      <td>1</td>\n",
              "      <td>101.40</td>\n",
              "      <td>3</td>\n",
              "      <td>4</td>\n",
              "      <td>2</td>\n",
              "      <td>342</td>\n",
              "      <td>9</td>\n",
              "    </tr>\n",
              "  </tbody>\n",
              "</table>\n",
              "</div>"
            ],
            "text/plain": [
              "           Recency  Frequency  Monetary  R  F  M RFMGroup  RFMScore\n",
              "client_id                                                          \n",
              "22             617          1    216.00  3  4  1      341         8\n",
              "37             498          1     59.28  2  4  4      244        10\n",
              "39             416          1     78.00  1  4  3      143         8\n",
              "45             684          1     78.00  4  4  3      443        11\n",
              "46             558          1    101.40  3  4  2      342         9"
            ]
          },
          "metadata": {
            "tags": []
          },
          "execution_count": 25
        }
      ]
    },
    {
      "cell_type": "code",
      "metadata": {
        "id": "HSdqTWpIX97b",
        "colab_type": "code",
        "colab": {
          "base_uri": "https://localhost:8080/",
          "height": 204
        },
        "outputId": "74cff5c2-209b-49b5-d8b2-92a6c198b441"
      },
      "source": [
        "# Assign Loyalty Level to each customer\n",
        "Loyalty_Level = ['Platinum', 'Gold', 'Silver', 'Bronze']\n",
        "Score_cuts = pd.qcut(RFMScores.RFMScore, q = 4, labels = Loyalty_Level)\n",
        "RFMScores['RFM_Loyalty_Level'] = Score_cuts.values\n",
        "RFMScores = RFMScores.reset_index()\n",
        "RFMScores.head()"
      ],
      "execution_count": 26,
      "outputs": [
        {
          "output_type": "execute_result",
          "data": {
            "text/html": [
              "<div>\n",
              "<style scoped>\n",
              "    .dataframe tbody tr th:only-of-type {\n",
              "        vertical-align: middle;\n",
              "    }\n",
              "\n",
              "    .dataframe tbody tr th {\n",
              "        vertical-align: top;\n",
              "    }\n",
              "\n",
              "    .dataframe thead th {\n",
              "        text-align: right;\n",
              "    }\n",
              "</style>\n",
              "<table border=\"1\" class=\"dataframe\">\n",
              "  <thead>\n",
              "    <tr style=\"text-align: right;\">\n",
              "      <th></th>\n",
              "      <th>client_id</th>\n",
              "      <th>Recency</th>\n",
              "      <th>Frequency</th>\n",
              "      <th>Monetary</th>\n",
              "      <th>R</th>\n",
              "      <th>F</th>\n",
              "      <th>M</th>\n",
              "      <th>RFMGroup</th>\n",
              "      <th>RFMScore</th>\n",
              "      <th>RFM_Loyalty_Level</th>\n",
              "    </tr>\n",
              "  </thead>\n",
              "  <tbody>\n",
              "    <tr>\n",
              "      <th>0</th>\n",
              "      <td>22</td>\n",
              "      <td>617</td>\n",
              "      <td>1</td>\n",
              "      <td>216.00</td>\n",
              "      <td>3</td>\n",
              "      <td>4</td>\n",
              "      <td>1</td>\n",
              "      <td>341</td>\n",
              "      <td>8</td>\n",
              "      <td>Platinum</td>\n",
              "    </tr>\n",
              "    <tr>\n",
              "      <th>1</th>\n",
              "      <td>37</td>\n",
              "      <td>498</td>\n",
              "      <td>1</td>\n",
              "      <td>59.28</td>\n",
              "      <td>2</td>\n",
              "      <td>4</td>\n",
              "      <td>4</td>\n",
              "      <td>244</td>\n",
              "      <td>10</td>\n",
              "      <td>Silver</td>\n",
              "    </tr>\n",
              "    <tr>\n",
              "      <th>2</th>\n",
              "      <td>39</td>\n",
              "      <td>416</td>\n",
              "      <td>1</td>\n",
              "      <td>78.00</td>\n",
              "      <td>1</td>\n",
              "      <td>4</td>\n",
              "      <td>3</td>\n",
              "      <td>143</td>\n",
              "      <td>8</td>\n",
              "      <td>Platinum</td>\n",
              "    </tr>\n",
              "    <tr>\n",
              "      <th>3</th>\n",
              "      <td>45</td>\n",
              "      <td>684</td>\n",
              "      <td>1</td>\n",
              "      <td>78.00</td>\n",
              "      <td>4</td>\n",
              "      <td>4</td>\n",
              "      <td>3</td>\n",
              "      <td>443</td>\n",
              "      <td>11</td>\n",
              "      <td>Bronze</td>\n",
              "    </tr>\n",
              "    <tr>\n",
              "      <th>4</th>\n",
              "      <td>46</td>\n",
              "      <td>558</td>\n",
              "      <td>1</td>\n",
              "      <td>101.40</td>\n",
              "      <td>3</td>\n",
              "      <td>4</td>\n",
              "      <td>2</td>\n",
              "      <td>342</td>\n",
              "      <td>9</td>\n",
              "      <td>Gold</td>\n",
              "    </tr>\n",
              "  </tbody>\n",
              "</table>\n",
              "</div>"
            ],
            "text/plain": [
              "   client_id  Recency  Frequency  ...  RFMGroup  RFMScore  RFM_Loyalty_Level\n",
              "0         22      617          1  ...       341         8           Platinum\n",
              "1         37      498          1  ...       244        10             Silver\n",
              "2         39      416          1  ...       143         8           Platinum\n",
              "3         45      684          1  ...       443        11             Bronze\n",
              "4         46      558          1  ...       342         9               Gold\n",
              "\n",
              "[5 rows x 10 columns]"
            ]
          },
          "metadata": {
            "tags": []
          },
          "execution_count": 26
        }
      ]
    },
    {
      "cell_type": "code",
      "metadata": {
        "id": "Rx-yI0gGaE-g",
        "colab_type": "code",
        "colab": {
          "base_uri": "https://localhost:8080/",
          "height": 204
        },
        "outputId": "e4ae5774-8baf-4d19-ff32-26eb92716ff4"
      },
      "source": [
        "RFMScores_SortedDesc = RFMScores.sort_values(['RFMScore', 'Frequency', 'Recency', 'Monetary'], #Sorting Priority -> Loyalty\n",
        "                                             ascending=[True, False, True, False]).reset_index(drop=True)\n",
        "RFMScores_SortedDesc.index += 1\n",
        "RFMScores_SortedDesc.head()"
      ],
      "execution_count": 35,
      "outputs": [
        {
          "output_type": "execute_result",
          "data": {
            "text/html": [
              "<div>\n",
              "<style scoped>\n",
              "    .dataframe tbody tr th:only-of-type {\n",
              "        vertical-align: middle;\n",
              "    }\n",
              "\n",
              "    .dataframe tbody tr th {\n",
              "        vertical-align: top;\n",
              "    }\n",
              "\n",
              "    .dataframe thead th {\n",
              "        text-align: right;\n",
              "    }\n",
              "</style>\n",
              "<table border=\"1\" class=\"dataframe\">\n",
              "  <thead>\n",
              "    <tr style=\"text-align: right;\">\n",
              "      <th></th>\n",
              "      <th>client_id</th>\n",
              "      <th>Recency</th>\n",
              "      <th>Frequency</th>\n",
              "      <th>Monetary</th>\n",
              "      <th>R</th>\n",
              "      <th>F</th>\n",
              "      <th>M</th>\n",
              "      <th>RFMGroup</th>\n",
              "      <th>RFMScore</th>\n",
              "      <th>RFM_Loyalty_Level</th>\n",
              "    </tr>\n",
              "  </thead>\n",
              "  <tbody>\n",
              "    <tr>\n",
              "      <th>1</th>\n",
              "      <td>147944</td>\n",
              "      <td>368</td>\n",
              "      <td>123</td>\n",
              "      <td>12842.28</td>\n",
              "      <td>1</td>\n",
              "      <td>1</td>\n",
              "      <td>1</td>\n",
              "      <td>111</td>\n",
              "      <td>3</td>\n",
              "      <td>Platinum</td>\n",
              "    </tr>\n",
              "    <tr>\n",
              "      <th>2</th>\n",
              "      <td>16146</td>\n",
              "      <td>377</td>\n",
              "      <td>101</td>\n",
              "      <td>7233.24</td>\n",
              "      <td>1</td>\n",
              "      <td>1</td>\n",
              "      <td>1</td>\n",
              "      <td>111</td>\n",
              "      <td>3</td>\n",
              "      <td>Platinum</td>\n",
              "    </tr>\n",
              "    <tr>\n",
              "      <th>3</th>\n",
              "      <td>131891</td>\n",
              "      <td>392</td>\n",
              "      <td>64</td>\n",
              "      <td>2711.00</td>\n",
              "      <td>1</td>\n",
              "      <td>1</td>\n",
              "      <td>1</td>\n",
              "      <td>111</td>\n",
              "      <td>3</td>\n",
              "      <td>Platinum</td>\n",
              "    </tr>\n",
              "    <tr>\n",
              "      <th>4</th>\n",
              "      <td>71117</td>\n",
              "      <td>366</td>\n",
              "      <td>60</td>\n",
              "      <td>2469.44</td>\n",
              "      <td>1</td>\n",
              "      <td>1</td>\n",
              "      <td>1</td>\n",
              "      <td>111</td>\n",
              "      <td>3</td>\n",
              "      <td>Platinum</td>\n",
              "    </tr>\n",
              "    <tr>\n",
              "      <th>5</th>\n",
              "      <td>189676</td>\n",
              "      <td>394</td>\n",
              "      <td>47</td>\n",
              "      <td>5888.16</td>\n",
              "      <td>1</td>\n",
              "      <td>1</td>\n",
              "      <td>1</td>\n",
              "      <td>111</td>\n",
              "      <td>3</td>\n",
              "      <td>Platinum</td>\n",
              "    </tr>\n",
              "  </tbody>\n",
              "</table>\n",
              "</div>"
            ],
            "text/plain": [
              "   client_id  Recency  Frequency  ...  RFMGroup  RFMScore  RFM_Loyalty_Level\n",
              "1     147944      368        123  ...       111         3           Platinum\n",
              "2      16146      377        101  ...       111         3           Platinum\n",
              "3     131891      392         64  ...       111         3           Platinum\n",
              "4      71117      366         60  ...       111         3           Platinum\n",
              "5     189676      394         47  ...       111         3           Platinum\n",
              "\n",
              "[5 rows x 10 columns]"
            ]
          },
          "metadata": {
            "tags": []
          },
          "execution_count": 35
        }
      ]
    },
    {
      "cell_type": "code",
      "metadata": {
        "id": "cfsF9Lk_dtyG",
        "colab_type": "code",
        "colab": {
          "base_uri": "https://localhost:8080/",
          "height": 419
        },
        "outputId": "b160c633-c93c-4237-ebeb-f4f2822e1a99"
      },
      "source": [
        "RFMScores_SortedDesc100 = RFMScores_SortedDesc.head(100) #Select 100 based on Loyalty/RFM Scores\n",
        "RFMScores_SortedDesc100"
      ],
      "execution_count": 28,
      "outputs": [
        {
          "output_type": "execute_result",
          "data": {
            "text/html": [
              "<div>\n",
              "<style scoped>\n",
              "    .dataframe tbody tr th:only-of-type {\n",
              "        vertical-align: middle;\n",
              "    }\n",
              "\n",
              "    .dataframe tbody tr th {\n",
              "        vertical-align: top;\n",
              "    }\n",
              "\n",
              "    .dataframe thead th {\n",
              "        text-align: right;\n",
              "    }\n",
              "</style>\n",
              "<table border=\"1\" class=\"dataframe\">\n",
              "  <thead>\n",
              "    <tr style=\"text-align: right;\">\n",
              "      <th></th>\n",
              "      <th>client_id</th>\n",
              "      <th>Recency</th>\n",
              "      <th>Frequency</th>\n",
              "      <th>Monetary</th>\n",
              "      <th>R</th>\n",
              "      <th>F</th>\n",
              "      <th>M</th>\n",
              "      <th>RFMGroup</th>\n",
              "      <th>RFMScore</th>\n",
              "      <th>RFM_Loyalty_Level</th>\n",
              "    </tr>\n",
              "  </thead>\n",
              "  <tbody>\n",
              "    <tr>\n",
              "      <th>1</th>\n",
              "      <td>147944</td>\n",
              "      <td>368</td>\n",
              "      <td>123</td>\n",
              "      <td>12842.28</td>\n",
              "      <td>1</td>\n",
              "      <td>1</td>\n",
              "      <td>1</td>\n",
              "      <td>111</td>\n",
              "      <td>3</td>\n",
              "      <td>Platinum</td>\n",
              "    </tr>\n",
              "    <tr>\n",
              "      <th>2</th>\n",
              "      <td>16146</td>\n",
              "      <td>377</td>\n",
              "      <td>101</td>\n",
              "      <td>7233.24</td>\n",
              "      <td>1</td>\n",
              "      <td>1</td>\n",
              "      <td>1</td>\n",
              "      <td>111</td>\n",
              "      <td>3</td>\n",
              "      <td>Platinum</td>\n",
              "    </tr>\n",
              "    <tr>\n",
              "      <th>3</th>\n",
              "      <td>131891</td>\n",
              "      <td>392</td>\n",
              "      <td>64</td>\n",
              "      <td>2711.00</td>\n",
              "      <td>1</td>\n",
              "      <td>1</td>\n",
              "      <td>1</td>\n",
              "      <td>111</td>\n",
              "      <td>3</td>\n",
              "      <td>Platinum</td>\n",
              "    </tr>\n",
              "    <tr>\n",
              "      <th>4</th>\n",
              "      <td>71117</td>\n",
              "      <td>366</td>\n",
              "      <td>60</td>\n",
              "      <td>2469.44</td>\n",
              "      <td>1</td>\n",
              "      <td>1</td>\n",
              "      <td>1</td>\n",
              "      <td>111</td>\n",
              "      <td>3</td>\n",
              "      <td>Platinum</td>\n",
              "    </tr>\n",
              "    <tr>\n",
              "      <th>5</th>\n",
              "      <td>189676</td>\n",
              "      <td>394</td>\n",
              "      <td>47</td>\n",
              "      <td>5888.16</td>\n",
              "      <td>1</td>\n",
              "      <td>1</td>\n",
              "      <td>1</td>\n",
              "      <td>111</td>\n",
              "      <td>3</td>\n",
              "      <td>Platinum</td>\n",
              "    </tr>\n",
              "    <tr>\n",
              "      <th>...</th>\n",
              "      <td>...</td>\n",
              "      <td>...</td>\n",
              "      <td>...</td>\n",
              "      <td>...</td>\n",
              "      <td>...</td>\n",
              "      <td>...</td>\n",
              "      <td>...</td>\n",
              "      <td>...</td>\n",
              "      <td>...</td>\n",
              "      <td>...</td>\n",
              "    </tr>\n",
              "    <tr>\n",
              "      <th>96</th>\n",
              "      <td>53815</td>\n",
              "      <td>402</td>\n",
              "      <td>14</td>\n",
              "      <td>762.56</td>\n",
              "      <td>1</td>\n",
              "      <td>1</td>\n",
              "      <td>1</td>\n",
              "      <td>111</td>\n",
              "      <td>3</td>\n",
              "      <td>Platinum</td>\n",
              "    </tr>\n",
              "    <tr>\n",
              "      <th>97</th>\n",
              "      <td>122311</td>\n",
              "      <td>446</td>\n",
              "      <td>14</td>\n",
              "      <td>443.10</td>\n",
              "      <td>1</td>\n",
              "      <td>1</td>\n",
              "      <td>1</td>\n",
              "      <td>111</td>\n",
              "      <td>3</td>\n",
              "      <td>Platinum</td>\n",
              "    </tr>\n",
              "    <tr>\n",
              "      <th>98</th>\n",
              "      <td>56429</td>\n",
              "      <td>366</td>\n",
              "      <td>13</td>\n",
              "      <td>529.56</td>\n",
              "      <td>1</td>\n",
              "      <td>1</td>\n",
              "      <td>1</td>\n",
              "      <td>111</td>\n",
              "      <td>3</td>\n",
              "      <td>Platinum</td>\n",
              "    </tr>\n",
              "    <tr>\n",
              "      <th>99</th>\n",
              "      <td>17363</td>\n",
              "      <td>367</td>\n",
              "      <td>13</td>\n",
              "      <td>866.16</td>\n",
              "      <td>1</td>\n",
              "      <td>1</td>\n",
              "      <td>1</td>\n",
              "      <td>111</td>\n",
              "      <td>3</td>\n",
              "      <td>Platinum</td>\n",
              "    </tr>\n",
              "    <tr>\n",
              "      <th>100</th>\n",
              "      <td>150563</td>\n",
              "      <td>371</td>\n",
              "      <td>13</td>\n",
              "      <td>507.00</td>\n",
              "      <td>1</td>\n",
              "      <td>1</td>\n",
              "      <td>1</td>\n",
              "      <td>111</td>\n",
              "      <td>3</td>\n",
              "      <td>Platinum</td>\n",
              "    </tr>\n",
              "  </tbody>\n",
              "</table>\n",
              "<p>100 rows × 10 columns</p>\n",
              "</div>"
            ],
            "text/plain": [
              "     client_id  Recency  Frequency  ...  RFMGroup  RFMScore  RFM_Loyalty_Level\n",
              "1       147944      368        123  ...       111         3           Platinum\n",
              "2        16146      377        101  ...       111         3           Platinum\n",
              "3       131891      392         64  ...       111         3           Platinum\n",
              "4        71117      366         60  ...       111         3           Platinum\n",
              "5       189676      394         47  ...       111         3           Platinum\n",
              "..         ...      ...        ...  ...       ...       ...                ...\n",
              "96       53815      402         14  ...       111         3           Platinum\n",
              "97      122311      446         14  ...       111         3           Platinum\n",
              "98       56429      366         13  ...       111         3           Platinum\n",
              "99       17363      367         13  ...       111         3           Platinum\n",
              "100     150563      371         13  ...       111         3           Platinum\n",
              "\n",
              "[100 rows x 10 columns]"
            ]
          },
          "metadata": {
            "tags": []
          },
          "execution_count": 28
        }
      ]
    },
    {
      "cell_type": "code",
      "metadata": {
        "id": "LGiFNU_lhqTQ",
        "colab_type": "code",
        "colab": {
          "base_uri": "https://localhost:8080/",
          "height": 204
        },
        "outputId": "b15ffb34-9ed9-4ab8-bb1a-582ef0113829"
      },
      "source": [
        "lijst = list(RFMScores_SortedDesc100['client_id'])\n",
        "i = 0\n",
        "\n",
        "print(\"So the loyal customer (client_id) that will get free vouchers at the end of the year are...\")\n",
        "while i < 100:\n",
        "    print(\"{:>5d}\".format(lijst[i]), end=\"\\t\")\n",
        "    i = i+1\n",
        "    if i % 10 == 0:\n",
        "        print(\"\")"
      ],
      "execution_count": 48,
      "outputs": [
        {
          "output_type": "stream",
          "text": [
            "So the loyal customer (client_id) that will get free vouchers at the end of the year are...\n",
            "147944\t16146\t131891\t71117\t189676\t143719\t100948\t74508\t140177\t113351\t\n",
            "41153\t75177\t59190\t190426\t116962\t48089\t81141\t195794\t254024\t 4486\t\n",
            "123399\t205735\t60717\t42649\t25529\t116853\t58851\t141516\t139032\t181748\t\n",
            "94755\t 3583\t110274\t40003\t100998\t137536\t107395\t41084\t121601\t229170\t\n",
            "198967\t77920\t126630\t118216\t86162\t174555\t132524\t131364\t167243\t10016\t\n",
            "45611\t105116\t238052\t119053\t40152\t164298\t86068\t102811\t74520\t65271\t\n",
            "17315\t106466\t61278\t102967\t209757\t21540\t165332\t126716\t148421\t86574\t\n",
            "61259\t68520\t42628\t161153\t113006\t162740\t136370\t36646\t204137\t35355\t\n",
            "136823\t75308\t208456\t111606\t156615\t88869\t160336\t151085\t153900\t148544\t\n",
            "134182\t68093\t39227\t95361\t  458\t53815\t122311\t56429\t17363\t150563\t\n"
          ],
          "name": "stdout"
        }
      ]
    },
    {
      "cell_type": "markdown",
      "metadata": {
        "id": "v6Mg4edzWPtr",
        "colab_type": "text"
      },
      "source": [
        "# ***Question D***\n",
        "What's the average time duration for clients to complete their payments? <br> Hint: you may want to check the distribution of all those time durations to choose a correct central-tendency measure"
      ]
    },
    {
      "cell_type": "code",
      "metadata": {
        "id": "uQb9YquPWP4f",
        "colab_type": "code",
        "colab": {}
      },
      "source": [
        "# Count Duration in Days - Assume we gonna Round it Down\n",
        "SalesDataCleanPaid['dur'] = (SalesDataCleanPaid['invoice_paid_at'] - SalesDataCleanPaid['invoice_created_at'])\n",
        "SalesDataCleanPaid['dur_days'] = (SalesDataCleanPaid['invoice_paid_at'] - SalesDataCleanPaid['invoice_created_at']).astype('timedelta64[D]')\n",
        "SalesDataCleanPaid['dur_days'] = SalesDataCleanPaid['dur_days'].astype('int64')"
      ],
      "execution_count": 30,
      "outputs": []
    },
    {
      "cell_type": "code",
      "metadata": {
        "id": "Cq41HEe-nV-E",
        "colab_type": "code",
        "colab": {
          "base_uri": "https://localhost:8080/",
          "height": 609
        },
        "outputId": "1f07d574-7b60-4dd9-903a-f908dce7b3ed"
      },
      "source": [
        "SalesDataCleanPaid"
      ],
      "execution_count": 31,
      "outputs": [
        {
          "output_type": "execute_result",
          "data": {
            "text/html": [
              "<div>\n",
              "<style scoped>\n",
              "    .dataframe tbody tr th:only-of-type {\n",
              "        vertical-align: middle;\n",
              "    }\n",
              "\n",
              "    .dataframe tbody tr th {\n",
              "        vertical-align: top;\n",
              "    }\n",
              "\n",
              "    .dataframe thead th {\n",
              "        text-align: right;\n",
              "    }\n",
              "</style>\n",
              "<table border=\"1\" class=\"dataframe\">\n",
              "  <thead>\n",
              "    <tr style=\"text-align: right;\">\n",
              "      <th></th>\n",
              "      <th>client_id</th>\n",
              "      <th>invoice_id</th>\n",
              "      <th>invoice_item_id</th>\n",
              "      <th>invoice_status</th>\n",
              "      <th>service_status</th>\n",
              "      <th>product_id</th>\n",
              "      <th>monthly_price_usd</th>\n",
              "      <th>discount</th>\n",
              "      <th>service_period</th>\n",
              "      <th>client_task</th>\n",
              "      <th>invoice_created_at</th>\n",
              "      <th>invoice_paid_at</th>\n",
              "      <th>service_cancelled_at</th>\n",
              "      <th>monthly_period</th>\n",
              "      <th>total_price</th>\n",
              "      <th>discounted_price</th>\n",
              "      <th>dur</th>\n",
              "      <th>dur_days</th>\n",
              "    </tr>\n",
              "  </thead>\n",
              "  <tbody>\n",
              "    <tr>\n",
              "      <th>0</th>\n",
              "      <td>9162</td>\n",
              "      <td>872143</td>\n",
              "      <td>1115707</td>\n",
              "      <td>Paid</td>\n",
              "      <td>Active</td>\n",
              "      <td>4</td>\n",
              "      <td>18.0</td>\n",
              "      <td>0.42</td>\n",
              "      <td>1Y</td>\n",
              "      <td>Renew</td>\n",
              "      <td>2019-12-05 22:36:44</td>\n",
              "      <td>2019-12-25 12:30:11</td>\n",
              "      <td>NaT</td>\n",
              "      <td>12</td>\n",
              "      <td>216.0</td>\n",
              "      <td>125.28</td>\n",
              "      <td>19 days 13:53:27</td>\n",
              "      <td>19</td>\n",
              "    </tr>\n",
              "    <tr>\n",
              "      <th>1</th>\n",
              "      <td>246708</td>\n",
              "      <td>875146</td>\n",
              "      <td>841327</td>\n",
              "      <td>Paid</td>\n",
              "      <td>Active</td>\n",
              "      <td>11</td>\n",
              "      <td>39.0</td>\n",
              "      <td>0.14</td>\n",
              "      <td>1M</td>\n",
              "      <td>Activate</td>\n",
              "      <td>2019-12-09 04:20:49</td>\n",
              "      <td>2019-12-09 04:25:11</td>\n",
              "      <td>NaT</td>\n",
              "      <td>1</td>\n",
              "      <td>39.0</td>\n",
              "      <td>33.54</td>\n",
              "      <td>0 days 00:04:22</td>\n",
              "      <td>0</td>\n",
              "    </tr>\n",
              "    <tr>\n",
              "      <th>2</th>\n",
              "      <td>52476</td>\n",
              "      <td>856128</td>\n",
              "      <td>1197628</td>\n",
              "      <td>Paid</td>\n",
              "      <td>Active</td>\n",
              "      <td>12</td>\n",
              "      <td>49.0</td>\n",
              "      <td>0.69</td>\n",
              "      <td>1M</td>\n",
              "      <td>Renew</td>\n",
              "      <td>2019-11-20 21:24:37</td>\n",
              "      <td>2019-12-03 23:33:27</td>\n",
              "      <td>NaT</td>\n",
              "      <td>1</td>\n",
              "      <td>49.0</td>\n",
              "      <td>15.19</td>\n",
              "      <td>13 days 02:08:50</td>\n",
              "      <td>13</td>\n",
              "    </tr>\n",
              "    <tr>\n",
              "      <th>3</th>\n",
              "      <td>129362</td>\n",
              "      <td>869645</td>\n",
              "      <td>1004638</td>\n",
              "      <td>Paid</td>\n",
              "      <td>Active</td>\n",
              "      <td>1</td>\n",
              "      <td>6.0</td>\n",
              "      <td>0.44</td>\n",
              "      <td>1Y</td>\n",
              "      <td>Renew</td>\n",
              "      <td>2019-12-04 00:37:05</td>\n",
              "      <td>2019-12-15 13:13:30</td>\n",
              "      <td>NaT</td>\n",
              "      <td>12</td>\n",
              "      <td>72.0</td>\n",
              "      <td>40.32</td>\n",
              "      <td>11 days 12:36:25</td>\n",
              "      <td>11</td>\n",
              "    </tr>\n",
              "    <tr>\n",
              "      <th>4</th>\n",
              "      <td>47277</td>\n",
              "      <td>843127</td>\n",
              "      <td>1184209</td>\n",
              "      <td>Paid</td>\n",
              "      <td>Active</td>\n",
              "      <td>3</td>\n",
              "      <td>13.0</td>\n",
              "      <td>0.34</td>\n",
              "      <td>1Y</td>\n",
              "      <td>Renew</td>\n",
              "      <td>2019-11-06 21:24:30</td>\n",
              "      <td>2019-12-04 03:37:11</td>\n",
              "      <td>NaT</td>\n",
              "      <td>12</td>\n",
              "      <td>156.0</td>\n",
              "      <td>102.96</td>\n",
              "      <td>27 days 06:12:41</td>\n",
              "      <td>27</td>\n",
              "    </tr>\n",
              "    <tr>\n",
              "      <th>...</th>\n",
              "      <td>...</td>\n",
              "      <td>...</td>\n",
              "      <td>...</td>\n",
              "      <td>...</td>\n",
              "      <td>...</td>\n",
              "      <td>...</td>\n",
              "      <td>...</td>\n",
              "      <td>...</td>\n",
              "      <td>...</td>\n",
              "      <td>...</td>\n",
              "      <td>...</td>\n",
              "      <td>...</td>\n",
              "      <td>...</td>\n",
              "      <td>...</td>\n",
              "      <td>...</td>\n",
              "      <td>...</td>\n",
              "      <td>...</td>\n",
              "      <td>...</td>\n",
              "    </tr>\n",
              "    <tr>\n",
              "      <th>52421</th>\n",
              "      <td>238846</td>\n",
              "      <td>861162</td>\n",
              "      <td>1202038</td>\n",
              "      <td>Paid</td>\n",
              "      <td>Active</td>\n",
              "      <td>9</td>\n",
              "      <td>17.0</td>\n",
              "      <td>0.00</td>\n",
              "      <td>1M</td>\n",
              "      <td>Renew</td>\n",
              "      <td>2019-11-26 17:00:41</td>\n",
              "      <td>2019-12-31 01:03:39</td>\n",
              "      <td>NaT</td>\n",
              "      <td>1</td>\n",
              "      <td>17.0</td>\n",
              "      <td>17.00</td>\n",
              "      <td>34 days 08:02:58</td>\n",
              "      <td>34</td>\n",
              "    </tr>\n",
              "    <tr>\n",
              "      <th>52423</th>\n",
              "      <td>74461</td>\n",
              "      <td>876940</td>\n",
              "      <td>1225832</td>\n",
              "      <td>Paid</td>\n",
              "      <td>Active</td>\n",
              "      <td>3</td>\n",
              "      <td>13.0</td>\n",
              "      <td>0.50</td>\n",
              "      <td>3Y</td>\n",
              "      <td>Renew</td>\n",
              "      <td>2019-12-11 00:00:41</td>\n",
              "      <td>2019-12-31 02:57:17</td>\n",
              "      <td>NaT</td>\n",
              "      <td>36</td>\n",
              "      <td>468.0</td>\n",
              "      <td>234.00</td>\n",
              "      <td>20 days 02:56:36</td>\n",
              "      <td>20</td>\n",
              "    </tr>\n",
              "    <tr>\n",
              "      <th>52426</th>\n",
              "      <td>15425</td>\n",
              "      <td>880099</td>\n",
              "      <td>1230653</td>\n",
              "      <td>Paid</td>\n",
              "      <td>Active</td>\n",
              "      <td>3</td>\n",
              "      <td>13.0</td>\n",
              "      <td>0.50</td>\n",
              "      <td>1Y</td>\n",
              "      <td>Renew</td>\n",
              "      <td>2019-12-13 22:12:57</td>\n",
              "      <td>2019-12-31 09:03:16</td>\n",
              "      <td>NaT</td>\n",
              "      <td>12</td>\n",
              "      <td>156.0</td>\n",
              "      <td>78.00</td>\n",
              "      <td>17 days 10:50:19</td>\n",
              "      <td>17</td>\n",
              "    </tr>\n",
              "    <tr>\n",
              "      <th>52427</th>\n",
              "      <td>50642</td>\n",
              "      <td>877841</td>\n",
              "      <td>1227281</td>\n",
              "      <td>Paid</td>\n",
              "      <td>Active</td>\n",
              "      <td>3</td>\n",
              "      <td>13.0</td>\n",
              "      <td>0.50</td>\n",
              "      <td>1Y</td>\n",
              "      <td>Renew</td>\n",
              "      <td>2019-12-11 20:24:53</td>\n",
              "      <td>2019-12-31 09:37:55</td>\n",
              "      <td>NaT</td>\n",
              "      <td>12</td>\n",
              "      <td>156.0</td>\n",
              "      <td>78.00</td>\n",
              "      <td>19 days 13:13:02</td>\n",
              "      <td>19</td>\n",
              "    </tr>\n",
              "    <tr>\n",
              "      <th>52429</th>\n",
              "      <td>69925</td>\n",
              "      <td>881656</td>\n",
              "      <td>1232953</td>\n",
              "      <td>Paid</td>\n",
              "      <td>Active</td>\n",
              "      <td>12</td>\n",
              "      <td>49.0</td>\n",
              "      <td>0.11</td>\n",
              "      <td>1M</td>\n",
              "      <td>Renew</td>\n",
              "      <td>2019-12-15 20:12:53</td>\n",
              "      <td>2019-12-31 10:45:22</td>\n",
              "      <td>NaT</td>\n",
              "      <td>1</td>\n",
              "      <td>49.0</td>\n",
              "      <td>43.61</td>\n",
              "      <td>15 days 14:32:29</td>\n",
              "      <td>15</td>\n",
              "    </tr>\n",
              "  </tbody>\n",
              "</table>\n",
              "<p>49804 rows × 18 columns</p>\n",
              "</div>"
            ],
            "text/plain": [
              "      client_id invoice_id  ...              dur dur_days\n",
              "0          9162     872143  ... 19 days 13:53:27       19\n",
              "1        246708     875146  ...  0 days 00:04:22        0\n",
              "2         52476     856128  ... 13 days 02:08:50       13\n",
              "3        129362     869645  ... 11 days 12:36:25       11\n",
              "4         47277     843127  ... 27 days 06:12:41       27\n",
              "...         ...        ...  ...              ...      ...\n",
              "52421    238846     861162  ... 34 days 08:02:58       34\n",
              "52423     74461     876940  ... 20 days 02:56:36       20\n",
              "52426     15425     880099  ... 17 days 10:50:19       17\n",
              "52427     50642     877841  ... 19 days 13:13:02       19\n",
              "52429     69925     881656  ... 15 days 14:32:29       15\n",
              "\n",
              "[49804 rows x 18 columns]"
            ]
          },
          "metadata": {
            "tags": []
          },
          "execution_count": 31
        }
      ]
    },
    {
      "cell_type": "code",
      "metadata": {
        "id": "Gf7ZYfAp2uSL",
        "colab_type": "code",
        "colab": {
          "base_uri": "https://localhost:8080/",
          "height": 280
        },
        "outputId": "843223d1-2013-4ad9-8300-1bacca69de0b"
      },
      "source": [
        "# Plotting to Know Central Tendency\n",
        "plot = SalesDataCleanPaid['dur_days']\n",
        "distplot = sns.distplot(plot)"
      ],
      "execution_count": 32,
      "outputs": [
        {
          "output_type": "display_data",
          "data": {
            "image/png": "[encoded data removed]",
            "text/plain": [
              "<Figure size 432x288 with 1 Axes>"
            ]
          },
          "metadata": {
            "tags": [],
            "needs_background": "light"
          }
        }
      ]
    },
    {
      "cell_type": "code",
      "metadata": {
        "id": "7cpGNae6ztJG",
        "colab_type": "code",
        "colab": {
          "base_uri": "https://localhost:8080/",
          "height": 85
        },
        "outputId": "8e4f3163-eafe-4af8-f7a7-dad0ff9bd060"
      },
      "source": [
        "# Central Tendency, Manual\n",
        "print(\"Central Tendency\"\n",
        "      + \"\\nMean\\t: \" + str(SalesDataCleanPaid['dur_days'].mean())\n",
        "      + \"\\nMedian\\t: \" + str(SalesDataCleanPaid['dur_days'].median())\n",
        "      + \"\\nMode\\t: \" + str(float(SalesDataCleanPaid['dur_days'].mode())))"
      ],
      "execution_count": 33,
      "outputs": [
        {
          "output_type": "stream",
          "text": [
            "Central Tendency\n",
            "Mean\t: 5.1597662838326235\n",
            "Median\t: 0.0\n",
            "Mode\t: 0.0\n"
          ],
          "name": "stdout"
        }
      ]
    },
    {
      "cell_type": "code",
      "metadata": {
        "id": "8v2YV_Cf_4GM",
        "colab_type": "code",
        "colab": {
          "base_uri": "https://localhost:8080/",
          "height": 170
        },
        "outputId": "e562c03a-fc0f-4003-b92c-9294246293c3"
      },
      "source": [
        "# Central Tendency, Statistics Function\n",
        "SalesDataCleanPaid['dur_days'].describe()"
      ],
      "execution_count": 34,
      "outputs": [
        {
          "output_type": "execute_result",
          "data": {
            "text/plain": [
              "count    49804.000000\n",
              "mean         5.159766\n",
              "std         11.630292\n",
              "min          0.000000\n",
              "25%          0.000000\n",
              "50%          0.000000\n",
              "75%          9.000000\n",
              "max        343.000000\n",
              "Name: dur_days, dtype: float64"
            ]
          },
          "metadata": {
            "tags": []
          },
          "execution_count": 34
        }
      ]
    },
    {
      "cell_type": "markdown",
      "metadata": {
        "id": "YcJa5bgdWQC9",
        "colab_type": "text"
      },
      "source": [
        "# ***Question E***\n",
        "How would you segment the company's customers based on their purchase history? <br> While you are allowed to use your own intuition, you should always support your argument using the data available."
      ]
    },
    {
      "cell_type": "code",
      "metadata": {
        "id": "IyYOfhLoWQME",
        "colab_type": "code",
        "colab": {}
      },
      "source": [
        "# Actually already did it in Loyalty Member, but lets make it into a Cluster\n",
        "# Handle negative and zero values so as to handle infinite numbers during log transformation\n",
        "def handle_neg_n_zero(num):\n",
        "    if num <= 0:\n",
        "        return 1\n",
        "    else:\n",
        "        return num\n",
        "# Apply handle_neg_n_zero function to Recency and Monetary columns \n",
        "RFMScores['Recency'] = [handle_neg_n_zero(x) for x in RFMScores.Recency]\n",
        "RFMScores['Monetary'] = [handle_neg_n_zero(x) for x in RFMScores.Monetary]\n",
        "\n",
        "# Perform Log transformation to bring data into normal or near normal distribution\n",
        "Log_Tfd_Data = RFMScores[['Recency', 'Frequency', 'Monetary']].apply(np.log, axis = 1).round(3)"
      ],
      "execution_count": 50,
      "outputs": []
    },
    {
      "cell_type": "code",
      "metadata": {
        "id": "DOoHnjFsjdam",
        "colab_type": "code",
        "colab": {
          "base_uri": "https://localhost:8080/",
          "height": 281
        },
        "outputId": "225a4f05-5ff1-4248-f19a-69f061435c39"
      },
      "source": [
        "# Data distribution after data normalization for Recency\n",
        "Recency_Plot = Log_Tfd_Data['Recency']\n",
        "ax = sns.distplot(Recency_Plot)"
      ],
      "execution_count": 52,
      "outputs": [
        {
          "output_type": "display_data",
          "data": {
            "image/png": "[encoded data removed]",
            "text/plain": [
              "<Figure size 432x288 with 1 Axes>"
            ]
          },
          "metadata": {
            "tags": [],
            "needs_background": "light"
          }
        }
      ]
    },
    {
      "cell_type": "code",
      "metadata": {
        "id": "qS0tybSdjfKh",
        "colab_type": "code",
        "colab": {
          "base_uri": "https://localhost:8080/",
          "height": 279
        },
        "outputId": "f3c2e12c-ddcf-4e09-8fbd-e0bfd6c05f56"
      },
      "source": [
        "# Data distribution after data normalization for Frequency\n",
        "Frequency_Plot = Log_Tfd_Data.query('Frequency < 1000')['Frequency']\n",
        "ax = sns.distplot(Frequency_Plot)"
      ],
      "execution_count": 51,
      "outputs": [
        {
          "output_type": "display_data",
          "data": {
            "image/png": "[encoded data removed]",
            "text/plain": [
              "<Figure size 432x288 with 1 Axes>"
            ]
          },
          "metadata": {
            "tags": [],
            "needs_background": "light"
          }
        }
      ]
    },
    {
      "cell_type": "code",
      "metadata": {
        "id": "muQsDa7CjiVF",
        "colab_type": "code",
        "colab": {
          "base_uri": "https://localhost:8080/",
          "height": 279
        },
        "outputId": "dfa1de9f-588e-4822-cdd7-a7115802e3b5"
      },
      "source": [
        "# Data distribution after data normalization for Monetary\n",
        "Monetary_Plot = Log_Tfd_Data.query('Monetary < 10000')['Monetary']\n",
        "ax = sns.distplot(Monetary_Plot)"
      ],
      "execution_count": 53,
      "outputs": [
        {
          "output_type": "display_data",
          "data": {
            "image/png": "[encoded data removed]",
            "text/plain": [
              "<Figure size 432x288 with 1 Axes>"
            ]
          },
          "metadata": {
            "tags": [],
            "needs_background": "light"
          }
        }
      ]
    },
    {
      "cell_type": "code",
      "metadata": {
        "id": "M1SKTzTpjmNb",
        "colab_type": "code",
        "colab": {}
      },
      "source": [
        "from sklearn.preprocessing import StandardScaler\n",
        "\n",
        "#Bring the data on same scale\n",
        "scaleobj = StandardScaler()\n",
        "Scaled_Data = scaleobj.fit_transform(Log_Tfd_Data)\n",
        "\n",
        "#Transform it back to dataframe\n",
        "Scaled_Data = pd.DataFrame(Scaled_Data, index = RFMScores.index, columns = Log_Tfd_Data.columns)"
      ],
      "execution_count": 54,
      "outputs": []
    },
    {
      "cell_type": "code",
      "metadata": {
        "id": "l3QKW5F8joh7",
        "colab_type": "code",
        "colab": {
          "base_uri": "https://localhost:8080/",
          "height": 295
        },
        "outputId": "33ae1458-3ec1-4e59-c564-7668930bba0d"
      },
      "source": [
        "from sklearn.cluster import KMeans\n",
        "\n",
        "sum_of_sq_dist = {}\n",
        "for k in range(1,15):\n",
        "    km = KMeans(n_clusters= k, init= 'k-means++', max_iter= 1000)\n",
        "    km = km.fit(Scaled_Data)\n",
        "    sum_of_sq_dist[k] = km.inertia_\n",
        "    \n",
        "#Plot the graph for the sum of square distance values and Number of Clusters\n",
        "sns.pointplot(x = list(sum_of_sq_dist.keys()), y = list(sum_of_sq_dist.values()))\n",
        "plt.xlabel('Number of Clusters(k)')\n",
        "plt.ylabel('Sum of Square Distances')\n",
        "plt.title('Elbow Method For Optimal k')\n",
        "plt.show()"
      ],
      "execution_count": 55,
      "outputs": [
        {
          "output_type": "display_data",
          "data": {
            "image/png": "[encoded data removed]",
            "text/plain": [
              "<Figure size 432x288 with 1 Axes>"
            ]
          },
          "metadata": {
            "tags": [],
            "needs_background": "light"
          }
        }
      ]
    },
    {
      "cell_type": "code",
      "metadata": {
        "id": "3y-wt38kjrGA",
        "colab_type": "code",
        "colab": {
          "base_uri": "https://localhost:8080/",
          "height": 204
        },
        "outputId": "f1332580-a347-4fa5-c03e-abd423d06538"
      },
      "source": [
        "#Perform K-Mean Clustering or build the K-Means clustering model\n",
        "KMean_clust = KMeans(n_clusters= 3, init= 'k-means++', max_iter= 1000)\n",
        "KMean_clust.fit(Scaled_Data)\n",
        "\n",
        "#Find the clusters for the observation given in the dataset\n",
        "RFMScores['Cluster'] = KMean_clust.labels_\n",
        "RFMScores.head()"
      ],
      "execution_count": 56,
      "outputs": [
        {
          "output_type": "execute_result",
          "data": {
            "text/html": [
              "<div>\n",
              "<style scoped>\n",
              "    .dataframe tbody tr th:only-of-type {\n",
              "        vertical-align: middle;\n",
              "    }\n",
              "\n",
              "    .dataframe tbody tr th {\n",
              "        vertical-align: top;\n",
              "    }\n",
              "\n",
              "    .dataframe thead th {\n",
              "        text-align: right;\n",
              "    }\n",
              "</style>\n",
              "<table border=\"1\" class=\"dataframe\">\n",
              "  <thead>\n",
              "    <tr style=\"text-align: right;\">\n",
              "      <th></th>\n",
              "      <th>client_id</th>\n",
              "      <th>Recency</th>\n",
              "      <th>Frequency</th>\n",
              "      <th>Monetary</th>\n",
              "      <th>R</th>\n",
              "      <th>F</th>\n",
              "      <th>M</th>\n",
              "      <th>RFMGroup</th>\n",
              "      <th>RFMScore</th>\n",
              "      <th>RFM_Loyalty_Level</th>\n",
              "      <th>Cluster</th>\n",
              "    </tr>\n",
              "  </thead>\n",
              "  <tbody>\n",
              "    <tr>\n",
              "      <th>0</th>\n",
              "      <td>22</td>\n",
              "      <td>617</td>\n",
              "      <td>1</td>\n",
              "      <td>216.00</td>\n",
              "      <td>3</td>\n",
              "      <td>4</td>\n",
              "      <td>1</td>\n",
              "      <td>341</td>\n",
              "      <td>8</td>\n",
              "      <td>Platinum</td>\n",
              "      <td>2</td>\n",
              "    </tr>\n",
              "    <tr>\n",
              "      <th>1</th>\n",
              "      <td>37</td>\n",
              "      <td>498</td>\n",
              "      <td>1</td>\n",
              "      <td>59.28</td>\n",
              "      <td>2</td>\n",
              "      <td>4</td>\n",
              "      <td>4</td>\n",
              "      <td>244</td>\n",
              "      <td>10</td>\n",
              "      <td>Silver</td>\n",
              "      <td>1</td>\n",
              "    </tr>\n",
              "    <tr>\n",
              "      <th>2</th>\n",
              "      <td>39</td>\n",
              "      <td>416</td>\n",
              "      <td>1</td>\n",
              "      <td>78.00</td>\n",
              "      <td>1</td>\n",
              "      <td>4</td>\n",
              "      <td>3</td>\n",
              "      <td>143</td>\n",
              "      <td>8</td>\n",
              "      <td>Platinum</td>\n",
              "      <td>1</td>\n",
              "    </tr>\n",
              "    <tr>\n",
              "      <th>3</th>\n",
              "      <td>45</td>\n",
              "      <td>684</td>\n",
              "      <td>1</td>\n",
              "      <td>78.00</td>\n",
              "      <td>4</td>\n",
              "      <td>4</td>\n",
              "      <td>3</td>\n",
              "      <td>443</td>\n",
              "      <td>11</td>\n",
              "      <td>Bronze</td>\n",
              "      <td>2</td>\n",
              "    </tr>\n",
              "    <tr>\n",
              "      <th>4</th>\n",
              "      <td>46</td>\n",
              "      <td>558</td>\n",
              "      <td>1</td>\n",
              "      <td>101.40</td>\n",
              "      <td>3</td>\n",
              "      <td>4</td>\n",
              "      <td>2</td>\n",
              "      <td>342</td>\n",
              "      <td>9</td>\n",
              "      <td>Gold</td>\n",
              "      <td>2</td>\n",
              "    </tr>\n",
              "  </tbody>\n",
              "</table>\n",
              "</div>"
            ],
            "text/plain": [
              "   client_id  Recency  Frequency  ...  RFMScore  RFM_Loyalty_Level  Cluster\n",
              "0         22      617          1  ...         8           Platinum        2\n",
              "1         37      498          1  ...        10             Silver        1\n",
              "2         39      416          1  ...         8           Platinum        1\n",
              "3         45      684          1  ...        11             Bronze        2\n",
              "4         46      558          1  ...         9               Gold        2\n",
              "\n",
              "[5 rows x 11 columns]"
            ]
          },
          "metadata": {
            "tags": []
          },
          "execution_count": 56
        }
      ]
    },
    {
      "cell_type": "code",
      "metadata": {
        "id": "0kpe9mNVjs59",
        "colab_type": "code",
        "colab": {
          "base_uri": "https://localhost:8080/",
          "height": 514
        },
        "outputId": "2e14e128-218b-4774-e92e-a392f2c2c0f5"
      },
      "source": [
        "from matplotlib import pyplot as plt\n",
        "plt.figure(figsize=(7,7))\n",
        "\n",
        "##Scatter Plot Frequency Vs Recency\n",
        "Colors = [\"red\", \"green\", \"blue\"]\n",
        "RFMScores['Color'] = RFMScores['Cluster'].map(lambda p: Colors[p])\n",
        "ax = RFMScores.plot(    \n",
        "    kind=\"scatter\", \n",
        "    x=\"Recency\", y=\"Frequency\",\n",
        "    figsize=(10,8),\n",
        "    c = RFMScores['Color']\n",
        ")"
      ],
      "execution_count": 57,
      "outputs": [
        {
          "output_type": "display_data",
          "data": {
            "text/plain": [
              "<Figure size 504x504 with 0 Axes>"
            ]
          },
          "metadata": {
            "tags": []
          }
        },
        {
          "output_type": "display_data",
          "data": {
            "image/png": "[encoded data removed]",
            "text/plain": [
              "<Figure size 720x576 with 1 Axes>"
            ]
          },
          "metadata": {
            "tags": [],
            "needs_background": "light"
          }
        }
      ]
    },
    {
      "cell_type": "code",
      "metadata": {
        "id": "mdhtLKUMjv7Z",
        "colab_type": "code",
        "colab": {
          "base_uri": "https://localhost:8080/",
          "height": 204
        },
        "outputId": "472e1cec-20f5-47ac-a16d-1e2d463c2caf"
      },
      "source": [
        "RFMScores.head()"
      ],
      "execution_count": 58,
      "outputs": [
        {
          "output_type": "execute_result",
          "data": {
            "text/html": [
              "<div>\n",
              "<style scoped>\n",
              "    .dataframe tbody tr th:only-of-type {\n",
              "        vertical-align: middle;\n",
              "    }\n",
              "\n",
              "    .dataframe tbody tr th {\n",
              "        vertical-align: top;\n",
              "    }\n",
              "\n",
              "    .dataframe thead th {\n",
              "        text-align: right;\n",
              "    }\n",
              "</style>\n",
              "<table border=\"1\" class=\"dataframe\">\n",
              "  <thead>\n",
              "    <tr style=\"text-align: right;\">\n",
              "      <th></th>\n",
              "      <th>client_id</th>\n",
              "      <th>Recency</th>\n",
              "      <th>Frequency</th>\n",
              "      <th>Monetary</th>\n",
              "      <th>R</th>\n",
              "      <th>F</th>\n",
              "      <th>M</th>\n",
              "      <th>RFMGroup</th>\n",
              "      <th>RFMScore</th>\n",
              "      <th>RFM_Loyalty_Level</th>\n",
              "      <th>Cluster</th>\n",
              "      <th>Color</th>\n",
              "    </tr>\n",
              "  </thead>\n",
              "  <tbody>\n",
              "    <tr>\n",
              "      <th>0</th>\n",
              "      <td>22</td>\n",
              "      <td>617</td>\n",
              "      <td>1</td>\n",
              "      <td>216.00</td>\n",
              "      <td>3</td>\n",
              "      <td>4</td>\n",
              "      <td>1</td>\n",
              "      <td>341</td>\n",
              "      <td>8</td>\n",
              "      <td>Platinum</td>\n",
              "      <td>2</td>\n",
              "      <td>blue</td>\n",
              "    </tr>\n",
              "    <tr>\n",
              "      <th>1</th>\n",
              "      <td>37</td>\n",
              "      <td>498</td>\n",
              "      <td>1</td>\n",
              "      <td>59.28</td>\n",
              "      <td>2</td>\n",
              "      <td>4</td>\n",
              "      <td>4</td>\n",
              "      <td>244</td>\n",
              "      <td>10</td>\n",
              "      <td>Silver</td>\n",
              "      <td>1</td>\n",
              "      <td>green</td>\n",
              "    </tr>\n",
              "    <tr>\n",
              "      <th>2</th>\n",
              "      <td>39</td>\n",
              "      <td>416</td>\n",
              "      <td>1</td>\n",
              "      <td>78.00</td>\n",
              "      <td>1</td>\n",
              "      <td>4</td>\n",
              "      <td>3</td>\n",
              "      <td>143</td>\n",
              "      <td>8</td>\n",
              "      <td>Platinum</td>\n",
              "      <td>1</td>\n",
              "      <td>green</td>\n",
              "    </tr>\n",
              "    <tr>\n",
              "      <th>3</th>\n",
              "      <td>45</td>\n",
              "      <td>684</td>\n",
              "      <td>1</td>\n",
              "      <td>78.00</td>\n",
              "      <td>4</td>\n",
              "      <td>4</td>\n",
              "      <td>3</td>\n",
              "      <td>443</td>\n",
              "      <td>11</td>\n",
              "      <td>Bronze</td>\n",
              "      <td>2</td>\n",
              "      <td>blue</td>\n",
              "    </tr>\n",
              "    <tr>\n",
              "      <th>4</th>\n",
              "      <td>46</td>\n",
              "      <td>558</td>\n",
              "      <td>1</td>\n",
              "      <td>101.40</td>\n",
              "      <td>3</td>\n",
              "      <td>4</td>\n",
              "      <td>2</td>\n",
              "      <td>342</td>\n",
              "      <td>9</td>\n",
              "      <td>Gold</td>\n",
              "      <td>2</td>\n",
              "      <td>blue</td>\n",
              "    </tr>\n",
              "  </tbody>\n",
              "</table>\n",
              "</div>"
            ],
            "text/plain": [
              "   client_id  Recency  Frequency  ...  RFM_Loyalty_Level  Cluster  Color\n",
              "0         22      617          1  ...           Platinum        2   blue\n",
              "1         37      498          1  ...             Silver        1  green\n",
              "2         39      416          1  ...           Platinum        1  green\n",
              "3         45      684          1  ...             Bronze        2   blue\n",
              "4         46      558          1  ...               Gold        2   blue\n",
              "\n",
              "[5 rows x 12 columns]"
            ]
          },
          "metadata": {
            "tags": []
          },
          "execution_count": 58
        }
      ]
    },
    {
      "cell_type": "markdown",
      "metadata": {
        "id": "sdzRbwZiWQWD",
        "colab_type": "text"
      },
      "source": [
        "# ***Question F***\n",
        "Explore the data. State your interesting findings as well as recommendation (if any) to the product team."
      ]
    },
    {
      "cell_type": "code",
      "metadata": {
        "id": "ukOHjkBmWQfB",
        "colab_type": "code",
        "colab": {}
      },
      "source": [
        "line chart sales by time\n",
        "line chart revenue by time\n",
        "\n",
        "highest product id\n",
        "line chart product id by tim\n",
        "\n",
        "based on rfm loyalty level juga bisa"
      ],
      "execution_count": 34,
      "outputs": []
    }
  ]
}